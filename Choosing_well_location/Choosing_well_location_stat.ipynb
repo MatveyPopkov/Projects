{
 "cells": [
  {
   "cell_type": "markdown",
   "metadata": {},
   "source": [
    "Привет, меня зовут Люман Аблаев. Сегодня я проверю твой проект.\n",
    "<br> Дальнейшее общение будет происходить на \"ты\" если это не вызывает никаких проблем.\n",
    "<br> Желательно реагировать на каждый мой комментарий ('исправил', 'не понятно как исправить ошибку', ...)\n",
    "<br> Пожалуйста, не удаляй комментарии ревьюера, так как они повышают качество повторного ревью.\n",
    "\n",
    "Комментарии будут в <font color='green'>зеленой</font>, <font color='blue'>синей</font> или <font color='red'>красной</font> рамках:\n",
    "\n",
    "<div class=\"alert alert-block alert-success\">\n",
    "<b>Успех:</b> Если все сделано отлично\n",
    "</div>\n",
    "\n",
    "<div class=\"alert alert-block alert-info\">\n",
    "<b>Совет: </b> Если можно немного улучшить\n",
    "</div>\n",
    "\n",
    "<div class=\"alert alert-block alert-danger\">\n",
    "<b>Ошибка:</b> Если требуются исправления. Работа не может быть принята с красными комментариями.\n",
    "</div>\n",
    "\n",
    "\n",
    "### <font color='orange'>Общее впечатление</font>\n",
    "* Спасибо за то, что прислал такую хорошую работу, видно, что было приложено много усилий.\n",
    "* Выводы  описаны грамотно и логично. Они просты для понимания.\n",
    "* В целом проект очень аккуратный, приятно проверять такие работы.\n",
    "* Я оставил некоторые советы, обрати на них внимание.\n",
    "* Нужно поправить момент с доверительным интервалом. Я думаю ты легко с ними справишься.\n",
    "* Жду твою обновленную работу.\n",
    "\n",
    "### <font color='orange'>Общее впечатление[2]</font>\n",
    "* Спасибо за очень оперативные правки своей работы.\n",
    "* Радует, что ты реагируешь на мои комментарии.\n",
    "* Теперь твой проект выглядит законченным. Поэтому я его принимаю и желаю удачи в дальнейшем обучении.\n",
    "* Продолжай в том же духе! =)"
   ]
  },
  {
   "cell_type": "markdown",
   "metadata": {},
   "source": [
    "<div class=\"alert alert-block alert-warning\">\n",
    "<b>Комментарий студента:</b> \n",
    "    \n",
    "Привет Люман, спасибо за проверку! я тогда буду оставлять комментарии в таких блоках.\n",
    "\n",
    "</div>"
   ]
  },
  {
   "cell_type": "markdown",
   "metadata": {
    "toc": true
   },
   "source": [
    "<h1>Table of Contents<span class=\"tocSkip\"></span></h1>\n",
    "<div class=\"toc\"><ul class=\"toc-item\"><li><ul class=\"toc-item\"><li><ul class=\"toc-item\"><li><span><a href=\"#Общее-впечатление\" data-toc-modified-id=\"Общее-впечатление-0.0.1\"><span class=\"toc-item-num\">0.0.1&nbsp;&nbsp;</span><font color=\"orange\">Общее впечатление</font></a></span></li><li><span><a href=\"#Общее-впечатление[2]\" data-toc-modified-id=\"Общее-впечатление[2]-0.0.2\"><span class=\"toc-item-num\">0.0.2&nbsp;&nbsp;</span><font color=\"orange\">Общее впечатление[2]</font></a></span></li></ul></li></ul></li><li><span><a href=\"#Описание-проекта\" data-toc-modified-id=\"Описание-проекта-1\"><span class=\"toc-item-num\">1&nbsp;&nbsp;</span>Описание проекта</a></span></li><li><span><a href=\"#Задача\" data-toc-modified-id=\"Задача-2\"><span class=\"toc-item-num\">2&nbsp;&nbsp;</span>Задача</a></span></li><li><span><a href=\"#Загрузка-и-подготовка-данных\" data-toc-modified-id=\"Загрузка-и-подготовка-данных-3\"><span class=\"toc-item-num\">3&nbsp;&nbsp;</span>Загрузка и подготовка данных</a></span><ul class=\"toc-item\"><li><span><a href=\"#Описание-данных\" data-toc-modified-id=\"Описание-данных-3.1\"><span class=\"toc-item-num\">3.1&nbsp;&nbsp;</span>Описание данных</a></span><ul class=\"toc-item\"><li><span><a href=\"#Регион-№1\" data-toc-modified-id=\"Регион-№1-3.1.1\"><span class=\"toc-item-num\">3.1.1&nbsp;&nbsp;</span>Регион №1</a></span><ul class=\"toc-item\"><li><span><a href=\"#Вывод-по-региону-1\" data-toc-modified-id=\"Вывод-по-региону-1-3.1.1.1\"><span class=\"toc-item-num\">3.1.1.1&nbsp;&nbsp;</span>Вывод по региону 1</a></span></li></ul></li><li><span><a href=\"#Регион-№2\" data-toc-modified-id=\"Регион-№2-3.1.2\"><span class=\"toc-item-num\">3.1.2&nbsp;&nbsp;</span>Регион №2</a></span><ul class=\"toc-item\"><li><span><a href=\"#Вывод-по-региону-2\" data-toc-modified-id=\"Вывод-по-региону-2-3.1.2.1\"><span class=\"toc-item-num\">3.1.2.1&nbsp;&nbsp;</span>Вывод по региону 2</a></span></li></ul></li><li><span><a href=\"#Регион-№3\" data-toc-modified-id=\"Регион-№3-3.1.3\"><span class=\"toc-item-num\">3.1.3&nbsp;&nbsp;</span>Регион №3</a></span><ul class=\"toc-item\"><li><span><a href=\"#Вывод-по-региону-3\" data-toc-modified-id=\"Вывод-по-региону-3-3.1.3.1\"><span class=\"toc-item-num\">3.1.3.1&nbsp;&nbsp;</span>Вывод по региону 3</a></span></li></ul></li></ul></li></ul></li><li><span><a href=\"#Обучение-и-проверка-модели\" data-toc-modified-id=\"Обучение-и-проверка-модели-4\"><span class=\"toc-item-num\">4&nbsp;&nbsp;</span>Обучение и проверка модели</a></span><ul class=\"toc-item\"><li><span><a href=\"#Регион-№1\" data-toc-modified-id=\"Регион-№1-4.1\"><span class=\"toc-item-num\">4.1&nbsp;&nbsp;</span>Регион №1</a></span></li><li><span><a href=\"#Регион-№2\" data-toc-modified-id=\"Регион-№2-4.2\"><span class=\"toc-item-num\">4.2&nbsp;&nbsp;</span>Регион №2</a></span></li><li><span><a href=\"#Регион-№3\" data-toc-modified-id=\"Регион-№3-4.3\"><span class=\"toc-item-num\">4.3&nbsp;&nbsp;</span>Регион №3</a></span></li><li><span><a href=\"#Вывод-по-блоку\" data-toc-modified-id=\"Вывод-по-блоку-4.4\"><span class=\"toc-item-num\">4.4&nbsp;&nbsp;</span>Вывод по блоку</a></span></li></ul></li><li><span><a href=\"#3.-Подготовка-к-расчёту-прибыли\" data-toc-modified-id=\"3.-Подготовка-к-расчёту-прибыли-5\"><span class=\"toc-item-num\">5&nbsp;&nbsp;</span>3. Подготовка к расчёту прибыли</a></span><ul class=\"toc-item\"><li><span><a href=\"#Основные-данные\" data-toc-modified-id=\"Основные-данные-5.1\"><span class=\"toc-item-num\">5.1&nbsp;&nbsp;</span>Основные данные</a></span><ul class=\"toc-item\"><li><span><a href=\"#Регион-№1\" data-toc-modified-id=\"Регион-№1-5.1.1\"><span class=\"toc-item-num\">5.1.1&nbsp;&nbsp;</span>Регион №1</a></span></li><li><span><a href=\"#Регион-№2\" data-toc-modified-id=\"Регион-№2-5.1.2\"><span class=\"toc-item-num\">5.1.2&nbsp;&nbsp;</span>Регион №2</a></span></li><li><span><a href=\"#Регион-№3\" data-toc-modified-id=\"Регион-№3-5.1.3\"><span class=\"toc-item-num\">5.1.3&nbsp;&nbsp;</span>Регион №3</a></span></li></ul></li><li><span><a href=\"#Вывод-по-блоку\" data-toc-modified-id=\"Вывод-по-блоку-5.2\"><span class=\"toc-item-num\">5.2&nbsp;&nbsp;</span>Вывод по блоку</a></span></li></ul></li><li><span><a href=\"#4.-Расчёт-прибыли-и-рисков\" data-toc-modified-id=\"4.-Расчёт-прибыли-и-рисков-6\"><span class=\"toc-item-num\">6&nbsp;&nbsp;</span>4. Расчёт прибыли и рисков</a></span><ul class=\"toc-item\"><li><span><a href=\"#Подготовка-данных\" data-toc-modified-id=\"Подготовка-данных-6.1\"><span class=\"toc-item-num\">6.1&nbsp;&nbsp;</span>Подготовка данных</a></span><ul class=\"toc-item\"><li><span><a href=\"#Регион-№1\" data-toc-modified-id=\"Регион-№1-6.1.1\"><span class=\"toc-item-num\">6.1.1&nbsp;&nbsp;</span>Регион №1</a></span></li><li><span><a href=\"#Регион-№2\" data-toc-modified-id=\"Регион-№2-6.1.2\"><span class=\"toc-item-num\">6.1.2&nbsp;&nbsp;</span>Регион №2</a></span></li><li><span><a href=\"#Регион-№3\" data-toc-modified-id=\"Регион-№3-6.1.3\"><span class=\"toc-item-num\">6.1.3&nbsp;&nbsp;</span>Регион №3</a></span></li></ul></li><li><span><a href=\"#Вывод\" data-toc-modified-id=\"Вывод-6.2\"><span class=\"toc-item-num\">6.2&nbsp;&nbsp;</span>Вывод</a></span></li></ul></li><li><span><a href=\"#Чек-лист-готовности-проекта\" data-toc-modified-id=\"Чек-лист-готовности-проекта-7\"><span class=\"toc-item-num\">7&nbsp;&nbsp;</span>Чек-лист готовности проекта</a></span></li></ul></div>"
   ]
  },
  {
   "cell_type": "code",
   "execution_count": 1,
   "metadata": {
    "ExecuteTime": {
     "end_time": "2021-01-21T18:37:51.136293Z",
     "start_time": "2021-01-21T18:37:48.970644Z"
    }
   },
   "outputs": [
    {
     "data": {
      "text/plain": [
       "'0.21.2'"
      ]
     },
     "execution_count": 1,
     "metadata": {},
     "output_type": "execute_result"
    }
   ],
   "source": [
    "import sklearn\n",
    "sklearn.__version__"
   ]
  },
  {
   "cell_type": "markdown",
   "metadata": {},
   "source": [
    "# Описание проекта"
   ]
  },
  {
   "cell_type": "markdown",
   "metadata": {},
   "source": [
    "Допустим, вы работаете в добывающей компании «ГлавРосГосНефть». Нужно решить, где бурить новую скважину.\n",
    "\n",
    "Вам предоставлены пробы нефти в трёх регионах: в каждом 10 000 месторождений, где измерили качество нефти и объём её запасов. Постройте модель машинного обучения, которая поможет определить регион, где добыча принесёт наибольшую прибыль. Проанализируйте возможную прибыль и риски техникой *Bootstrap.*\n",
    "\n",
    "Шаги для выбора локации:\n",
    "\n",
    "- В избранном регионе ищут месторождения, для каждого определяют значения признаков;\n",
    "- Строят модель и оценивают объём запасов;\n",
    "- Выбирают месторождения с самым высокими оценками значений. Количество месторождений зависит от бюджета компании и стоимости разработки одной скважины;\n",
    "- Прибыль равна суммарной прибыли отобранных месторождений."
   ]
  },
  {
   "cell_type": "markdown",
   "metadata": {},
   "source": [
    "# Задача\n",
    "1. **Построить модель для определения региона, где добыча принесёт наибольшую прибыль.**\n",
    "2. **Проанализировать возможную прибыль и риски.**"
   ]
  },
  {
   "cell_type": "markdown",
   "metadata": {},
   "source": [
    "<div class=\"alert alert-block alert-success\">\n",
    "<b>Успех:</b> Спасибо за подробное описание проекта.\n",
    "</div>\n"
   ]
  },
  {
   "cell_type": "markdown",
   "metadata": {},
   "source": [
    "# Загрузка и подготовка данных"
   ]
  },
  {
   "cell_type": "code",
   "execution_count": 2,
   "metadata": {
    "ExecuteTime": {
     "end_time": "2021-01-21T18:37:53.106888Z",
     "start_time": "2021-01-21T18:37:51.139285Z"
    }
   },
   "outputs": [],
   "source": [
    "# импорт данных \n",
    "import os\n",
    "import errno\n",
    "from urllib.request import urlretrieve\n",
    "from IPython.display import HTML, display\n",
    "from pathlib import Path\n",
    "import urllib\n",
    "\n",
    "\n",
    "# Основные библиотеки для работы с данными\n",
    "import pandas as pd\n",
    "import numpy as np\n",
    "import math\n",
    "\n",
    "# работа с графиками\n",
    "from matplotlib import pyplot as plt\n",
    "import scipy\n",
    "import seaborn as sns\n",
    "from sklearn import metrics\n",
    "\n",
    "# библиотека для модели\n",
    "from sklearn.linear_model import LinearRegression\n",
    "\n",
    "# Настройка моделей и параметров (разбивка датасета, его перемешивание и т.д.)\n",
    "from sklearn.model_selection import train_test_split\n",
    "from sklearn.model_selection import GridSearchCV\n",
    "from tqdm import tqdm\n",
    "from itertools import product \n",
    "from sklearn.metrics import f1_score, make_scorer\n",
    "from sklearn.utils import shuffle\n",
    "\n",
    "# Наши основные показатели\n",
    "from sklearn.metrics import f1_score\n",
    "from sklearn.metrics import accuracy_score\n",
    "from sklearn.metrics import confusion_matrix\n",
    "from sklearn.metrics import roc_auc_score\n",
    "from sklearn.metrics import roc_curve \n",
    "from sklearn.preprocessing import StandardScaler\n",
    "from sklearn.metrics import mean_squared_error\n",
    "\n",
    "\n",
    "from scipy import stats as st\n",
    "from scipy.stats import t\n",
    "from numpy.random import RandomState\n",
    "import urllib\n",
    "import urllib.request\n"
   ]
  },
  {
   "cell_type": "code",
   "execution_count": 3,
   "metadata": {
    "ExecuteTime": {
     "end_time": "2021-01-21T18:37:53.114867Z",
     "start_time": "2021-01-21T18:37:53.109881Z"
    }
   },
   "outputs": [],
   "source": [
    "# отключение предупреждений\n",
    "import warnings; warnings.filterwarnings(\"ignore\", category=Warning)"
   ]
  },
  {
   "cell_type": "code",
   "execution_count": 4,
   "metadata": {
    "ExecuteTime": {
     "end_time": "2021-01-21T18:37:53.122847Z",
     "start_time": "2021-01-21T18:37:53.117859Z"
    }
   },
   "outputs": [],
   "source": [
    "# обновление библиотек Numpy и Pandas для исключения ошибок версий\n",
    "# !pip3 install --upgrade --user --quiet --no-warn-script-location numpy==1.19.3 pandas"
   ]
  },
  {
   "cell_type": "code",
   "execution_count": 5,
   "metadata": {
    "ExecuteTime": {
     "end_time": "2021-01-21T18:37:53.133816Z",
     "start_time": "2021-01-21T18:37:53.126835Z"
    }
   },
   "outputs": [],
   "source": [
    "# для просмотра всех столбцов таблицы\n",
    "pd.options.display.max_columns = None"
   ]
  },
  {
   "cell_type": "code",
   "execution_count": 6,
   "metadata": {
    "ExecuteTime": {
     "end_time": "2021-01-21T18:37:53.145783Z",
     "start_time": "2021-01-21T18:37:53.136808Z"
    }
   },
   "outputs": [],
   "source": [
    "# # обновление библиотек\n",
    "# !pip3 install --upgrade --user --quiet matplotlib seaborn"
   ]
  },
  {
   "cell_type": "code",
   "execution_count": 7,
   "metadata": {
    "ExecuteTime": {
     "end_time": "2021-01-21T18:37:53.154761Z",
     "start_time": "2021-01-21T18:37:53.148775Z"
    }
   },
   "outputs": [],
   "source": [
    "# # обновление библиотек\n",
    "# !pip3 install --upgrade --user --quiet sklearn"
   ]
  },
  {
   "cell_type": "code",
   "execution_count": 8,
   "metadata": {
    "ExecuteTime": {
     "end_time": "2021-01-21T18:37:53.167726Z",
     "start_time": "2021-01-21T18:37:53.160744Z"
    }
   },
   "outputs": [],
   "source": [
    "def load_from_url(file_url, file_path):\n",
    "    \"\"\"Загрузка файла из сетевого источника и загрузка в file_path\"\"\"\n",
    "    folder_path = os.path.dirname(file_path)\n",
    "    if not os.path.exists(folder_path):\n",
    "        print('Создаем папку {folder_path}')\n",
    "        os.makedirs(folder_path)\n",
    "        print(f'Закгружаю файл из \"{file_url}\" в \"{file_path}\" ... ', end='')\n",
    "        result = urllib.urlretrieve(url=file_url, filename=file_path) \n",
    "        print('OK')\n",
    "        return result\n",
    "\n"
   ]
  },
  {
   "cell_type": "code",
   "execution_count": 9,
   "metadata": {
    "ExecuteTime": {
     "end_time": "2021-01-21T18:37:53.179698Z",
     "start_time": "2021-01-21T18:37:53.172711Z"
    }
   },
   "outputs": [],
   "source": [
    "def get_data_frame(file_path, *args, **kwqrgs):\n",
    "    \"\"\"Загружаю файл из локального файла file_path\"\"\"\n",
    "    print(f'Открываю \"{file_path}\" с помошью Pandas ...', end='')\n",
    "    result = pd.read_csv(file_path, *args, **kwqrgs)\n",
    "    print('OK')\n",
    "    return result\n",
    "    "
   ]
  },
  {
   "cell_type": "code",
   "execution_count": 10,
   "metadata": {
    "ExecuteTime": {
     "end_time": "2021-01-21T18:37:53.194653Z",
     "start_time": "2021-01-21T18:37:53.182685Z"
    }
   },
   "outputs": [],
   "source": [
    "# \n",
    "def load_dataframe(file_url, file_path, *args, **kwqrgs):\n",
    "    if os.path.isfile(file_path):\n",
    "        print(f'Файл \"{file_path}\" уже был ранее заргужен.')\n",
    "    else:\n",
    "        load_from_url(file_url, file_path)\n",
    "#     Создаем датафрейм\n",
    "    return get_data_frame(file_path, *args, **kwqrgs)\n",
    "    "
   ]
  },
  {
   "cell_type": "markdown",
   "metadata": {},
   "source": [
    "<div class=\"alert alert-block alert-success\">\n",
    "<b>Успех:</b>Молодец, что собираешь все импорты, настройки, и вспомогательные функции в начале проекта.\n",
    "</div>\n"
   ]
  },
  {
   "cell_type": "code",
   "execution_count": 11,
   "metadata": {
    "ExecuteTime": {
     "end_time": "2021-01-21T18:37:53.204635Z",
     "start_time": "2021-01-21T18:37:53.197645Z"
    }
   },
   "outputs": [],
   "source": [
    "dataset_url0 = '.../datasets/geo_data_0.csv'\n",
    "dataset_url1 = '.../datasets/geo_data_1.csv'\n",
    "dataset_url2 = '.../datasets/geo_data_2.csv'\n",
    "\n",
    "\n",
    "# dataset_path0 = '/Users/Matvey/projects/geo_data_0.csv'\n",
    "# dataset_path1 = '/Users/Matvey/projects/geo_data_1.csv'\n",
    "# dataset_path2 = '/Users/Matvey/projects/geo_data_2.csv'\n",
    "\n",
    "dataset_path0 = 'D:/projects/geo_data_0.csv'\n",
    "dataset_path1 = 'D:/projects/geo_data_1.csv'\n",
    "dataset_path2 = 'D:/projects/geo_data_2.csv'"
   ]
  },
  {
   "cell_type": "code",
   "execution_count": 12,
   "metadata": {
    "ExecuteTime": {
     "end_time": "2021-01-21T18:37:55.792322Z",
     "start_time": "2021-01-21T18:37:53.208615Z"
    },
    "scrolled": true
   },
   "outputs": [],
   "source": [
    "# raw_data0 = load_dataframe(dataset_url0, dataset_path0)\n",
    "# raw_data1 = load_dataframe(dataset_url1, dataset_path1)\n",
    "# raw_data2 = load_dataframe(dataset_url2, dataset_path2)"
   ]
  },
  {
   "cell_type": "markdown",
   "metadata": {},
   "source": [
    "<div class=\"alert alert-block alert-warning\">\n",
    "<b>Комментарий студента:</b> \n",
    "    \n",
    "Я вносил правки не со своего компьтера, поэтому ниже просто ипортировал файлы по ссылкам, а верхний блоек закомментировал.\n",
    "\n",
    "</div>"
   ]
  },
  {
   "cell_type": "code",
   "execution_count": 13,
   "metadata": {},
   "outputs": [],
   "source": [
    "raw_data0 = pd.read_csv('https://code.s3.yandex.net/datasets/geo_data_0.csv')\n",
    "raw_data1 = pd.read_csv('https://code.s3.yandex.net/datasets/geo_data_1.csv')\n",
    "raw_data2 = pd.read_csv('https://code.s3.yandex.net/datasets/geo_data_2.csv')"
   ]
  },
  {
   "cell_type": "markdown",
   "metadata": {},
   "source": [
    "## Описание данных\n",
    "- id — уникальный идентификатор скважины;\n",
    "- f0, f1, f2 — три признака точек;\n",
    "- product — объём запасов в скважине (тыс. баррелей)."
   ]
  },
  {
   "cell_type": "markdown",
   "metadata": {},
   "source": [
    "### Регион №1"
   ]
  },
  {
   "cell_type": "code",
   "execution_count": 14,
   "metadata": {
    "ExecuteTime": {
     "end_time": "2021-01-21T18:37:55.843188Z",
     "start_time": "2021-01-21T18:37:55.801299Z"
    },
    "scrolled": false
   },
   "outputs": [
    {
     "data": {
      "text/html": [
       "<div>\n",
       "<style scoped>\n",
       "    .dataframe tbody tr th:only-of-type {\n",
       "        vertical-align: middle;\n",
       "    }\n",
       "\n",
       "    .dataframe tbody tr th {\n",
       "        vertical-align: top;\n",
       "    }\n",
       "\n",
       "    .dataframe thead th {\n",
       "        text-align: right;\n",
       "    }\n",
       "</style>\n",
       "<table border=\"1\" class=\"dataframe\">\n",
       "  <thead>\n",
       "    <tr style=\"text-align: right;\">\n",
       "      <th></th>\n",
       "      <th>id</th>\n",
       "      <th>f0</th>\n",
       "      <th>f1</th>\n",
       "      <th>f2</th>\n",
       "      <th>product</th>\n",
       "    </tr>\n",
       "  </thead>\n",
       "  <tbody>\n",
       "    <tr>\n",
       "      <td>0</td>\n",
       "      <td>txEyH</td>\n",
       "      <td>0.705745</td>\n",
       "      <td>-0.497823</td>\n",
       "      <td>1.221170</td>\n",
       "      <td>105.280062</td>\n",
       "    </tr>\n",
       "    <tr>\n",
       "      <td>1</td>\n",
       "      <td>2acmU</td>\n",
       "      <td>1.334711</td>\n",
       "      <td>-0.340164</td>\n",
       "      <td>4.365080</td>\n",
       "      <td>73.037750</td>\n",
       "    </tr>\n",
       "    <tr>\n",
       "      <td>2</td>\n",
       "      <td>409Wp</td>\n",
       "      <td>1.022732</td>\n",
       "      <td>0.151990</td>\n",
       "      <td>1.419926</td>\n",
       "      <td>85.265647</td>\n",
       "    </tr>\n",
       "    <tr>\n",
       "      <td>3</td>\n",
       "      <td>iJLyR</td>\n",
       "      <td>-0.032172</td>\n",
       "      <td>0.139033</td>\n",
       "      <td>2.978566</td>\n",
       "      <td>168.620776</td>\n",
       "    </tr>\n",
       "    <tr>\n",
       "      <td>4</td>\n",
       "      <td>Xdl7t</td>\n",
       "      <td>1.988431</td>\n",
       "      <td>0.155413</td>\n",
       "      <td>4.751769</td>\n",
       "      <td>154.036647</td>\n",
       "    </tr>\n",
       "    <tr>\n",
       "      <td>...</td>\n",
       "      <td>...</td>\n",
       "      <td>...</td>\n",
       "      <td>...</td>\n",
       "      <td>...</td>\n",
       "      <td>...</td>\n",
       "    </tr>\n",
       "    <tr>\n",
       "      <td>99995</td>\n",
       "      <td>DLsed</td>\n",
       "      <td>0.971957</td>\n",
       "      <td>0.370953</td>\n",
       "      <td>6.075346</td>\n",
       "      <td>110.744026</td>\n",
       "    </tr>\n",
       "    <tr>\n",
       "      <td>99996</td>\n",
       "      <td>QKivN</td>\n",
       "      <td>1.392429</td>\n",
       "      <td>-0.382606</td>\n",
       "      <td>1.273912</td>\n",
       "      <td>122.346843</td>\n",
       "    </tr>\n",
       "    <tr>\n",
       "      <td>99997</td>\n",
       "      <td>3rnvd</td>\n",
       "      <td>1.029585</td>\n",
       "      <td>0.018787</td>\n",
       "      <td>-1.348308</td>\n",
       "      <td>64.375443</td>\n",
       "    </tr>\n",
       "    <tr>\n",
       "      <td>99998</td>\n",
       "      <td>7kl59</td>\n",
       "      <td>0.998163</td>\n",
       "      <td>-0.528582</td>\n",
       "      <td>1.583869</td>\n",
       "      <td>74.040764</td>\n",
       "    </tr>\n",
       "    <tr>\n",
       "      <td>99999</td>\n",
       "      <td>1CWhH</td>\n",
       "      <td>1.764754</td>\n",
       "      <td>-0.266417</td>\n",
       "      <td>5.722849</td>\n",
       "      <td>149.633246</td>\n",
       "    </tr>\n",
       "  </tbody>\n",
       "</table>\n",
       "<p>100000 rows × 5 columns</p>\n",
       "</div>"
      ],
      "text/plain": [
       "          id        f0        f1        f2     product\n",
       "0      txEyH  0.705745 -0.497823  1.221170  105.280062\n",
       "1      2acmU  1.334711 -0.340164  4.365080   73.037750\n",
       "2      409Wp  1.022732  0.151990  1.419926   85.265647\n",
       "3      iJLyR -0.032172  0.139033  2.978566  168.620776\n",
       "4      Xdl7t  1.988431  0.155413  4.751769  154.036647\n",
       "...      ...       ...       ...       ...         ...\n",
       "99995  DLsed  0.971957  0.370953  6.075346  110.744026\n",
       "99996  QKivN  1.392429 -0.382606  1.273912  122.346843\n",
       "99997  3rnvd  1.029585  0.018787 -1.348308   64.375443\n",
       "99998  7kl59  0.998163 -0.528582  1.583869   74.040764\n",
       "99999  1CWhH  1.764754 -0.266417  5.722849  149.633246\n",
       "\n",
       "[100000 rows x 5 columns]"
      ]
     },
     "execution_count": 14,
     "metadata": {},
     "output_type": "execute_result"
    }
   ],
   "source": [
    "raw_data0"
   ]
  },
  {
   "cell_type": "code",
   "execution_count": 15,
   "metadata": {
    "ExecuteTime": {
     "end_time": "2021-01-21T18:37:55.878095Z",
     "start_time": "2021-01-21T18:37:55.846179Z"
    },
    "scrolled": false
   },
   "outputs": [
    {
     "name": "stdout",
     "output_type": "stream",
     "text": [
      "<class 'pandas.core.frame.DataFrame'>\n",
      "RangeIndex: 100000 entries, 0 to 99999\n",
      "Data columns (total 5 columns):\n",
      "id         100000 non-null object\n",
      "f0         100000 non-null float64\n",
      "f1         100000 non-null float64\n",
      "f2         100000 non-null float64\n",
      "product    100000 non-null float64\n",
      "dtypes: float64(4), object(1)\n",
      "memory usage: 3.8+ MB\n"
     ]
    }
   ],
   "source": [
    "raw_data0.info()"
   ]
  },
  {
   "cell_type": "code",
   "execution_count": 16,
   "metadata": {
    "ExecuteTime": {
     "end_time": "2021-01-21T18:37:55.927961Z",
     "start_time": "2021-01-21T18:37:55.880091Z"
    },
    "scrolled": true
   },
   "outputs": [
    {
     "data": {
      "text/html": [
       "<div>\n",
       "<style scoped>\n",
       "    .dataframe tbody tr th:only-of-type {\n",
       "        vertical-align: middle;\n",
       "    }\n",
       "\n",
       "    .dataframe tbody tr th {\n",
       "        vertical-align: top;\n",
       "    }\n",
       "\n",
       "    .dataframe thead th {\n",
       "        text-align: right;\n",
       "    }\n",
       "</style>\n",
       "<table border=\"1\" class=\"dataframe\">\n",
       "  <thead>\n",
       "    <tr style=\"text-align: right;\">\n",
       "      <th></th>\n",
       "      <th>f0</th>\n",
       "      <th>f1</th>\n",
       "      <th>f2</th>\n",
       "      <th>product</th>\n",
       "    </tr>\n",
       "  </thead>\n",
       "  <tbody>\n",
       "    <tr>\n",
       "      <td>count</td>\n",
       "      <td>100000.000000</td>\n",
       "      <td>100000.000000</td>\n",
       "      <td>100000.000000</td>\n",
       "      <td>100000.000000</td>\n",
       "    </tr>\n",
       "    <tr>\n",
       "      <td>mean</td>\n",
       "      <td>0.500419</td>\n",
       "      <td>0.250143</td>\n",
       "      <td>2.502647</td>\n",
       "      <td>92.500000</td>\n",
       "    </tr>\n",
       "    <tr>\n",
       "      <td>std</td>\n",
       "      <td>0.871832</td>\n",
       "      <td>0.504433</td>\n",
       "      <td>3.248248</td>\n",
       "      <td>44.288691</td>\n",
       "    </tr>\n",
       "    <tr>\n",
       "      <td>min</td>\n",
       "      <td>-1.408605</td>\n",
       "      <td>-0.848218</td>\n",
       "      <td>-12.088328</td>\n",
       "      <td>0.000000</td>\n",
       "    </tr>\n",
       "    <tr>\n",
       "      <td>25%</td>\n",
       "      <td>-0.072580</td>\n",
       "      <td>-0.200881</td>\n",
       "      <td>0.287748</td>\n",
       "      <td>56.497507</td>\n",
       "    </tr>\n",
       "    <tr>\n",
       "      <td>50%</td>\n",
       "      <td>0.502360</td>\n",
       "      <td>0.250252</td>\n",
       "      <td>2.515969</td>\n",
       "      <td>91.849972</td>\n",
       "    </tr>\n",
       "    <tr>\n",
       "      <td>75%</td>\n",
       "      <td>1.073581</td>\n",
       "      <td>0.700646</td>\n",
       "      <td>4.715088</td>\n",
       "      <td>128.564089</td>\n",
       "    </tr>\n",
       "    <tr>\n",
       "      <td>max</td>\n",
       "      <td>2.362331</td>\n",
       "      <td>1.343769</td>\n",
       "      <td>16.003790</td>\n",
       "      <td>185.364347</td>\n",
       "    </tr>\n",
       "  </tbody>\n",
       "</table>\n",
       "</div>"
      ],
      "text/plain": [
       "                  f0             f1             f2        product\n",
       "count  100000.000000  100000.000000  100000.000000  100000.000000\n",
       "mean        0.500419       0.250143       2.502647      92.500000\n",
       "std         0.871832       0.504433       3.248248      44.288691\n",
       "min        -1.408605      -0.848218     -12.088328       0.000000\n",
       "25%        -0.072580      -0.200881       0.287748      56.497507\n",
       "50%         0.502360       0.250252       2.515969      91.849972\n",
       "75%         1.073581       0.700646       4.715088     128.564089\n",
       "max         2.362331       1.343769      16.003790     185.364347"
      ]
     },
     "execution_count": 16,
     "metadata": {},
     "output_type": "execute_result"
    }
   ],
   "source": [
    "raw_data0.describe()"
   ]
  },
  {
   "cell_type": "code",
   "execution_count": 17,
   "metadata": {
    "ExecuteTime": {
     "end_time": "2021-01-21T18:37:55.958878Z",
     "start_time": "2021-01-21T18:37:55.930964Z"
    }
   },
   "outputs": [
    {
     "data": {
      "text/html": [
       "<div>\n",
       "<style scoped>\n",
       "    .dataframe tbody tr th:only-of-type {\n",
       "        vertical-align: middle;\n",
       "    }\n",
       "\n",
       "    .dataframe tbody tr th {\n",
       "        vertical-align: top;\n",
       "    }\n",
       "\n",
       "    .dataframe thead th {\n",
       "        text-align: right;\n",
       "    }\n",
       "</style>\n",
       "<table border=\"1\" class=\"dataframe\">\n",
       "  <thead>\n",
       "    <tr style=\"text-align: right;\">\n",
       "      <th></th>\n",
       "      <th>f0</th>\n",
       "      <th>f1</th>\n",
       "      <th>f2</th>\n",
       "      <th>product</th>\n",
       "    </tr>\n",
       "  </thead>\n",
       "  <tbody>\n",
       "    <tr>\n",
       "      <td>f0</td>\n",
       "      <td>1.000000</td>\n",
       "      <td>-0.440723</td>\n",
       "      <td>-0.003153</td>\n",
       "      <td>0.143536</td>\n",
       "    </tr>\n",
       "    <tr>\n",
       "      <td>f1</td>\n",
       "      <td>-0.440723</td>\n",
       "      <td>1.000000</td>\n",
       "      <td>0.001724</td>\n",
       "      <td>-0.192356</td>\n",
       "    </tr>\n",
       "    <tr>\n",
       "      <td>f2</td>\n",
       "      <td>-0.003153</td>\n",
       "      <td>0.001724</td>\n",
       "      <td>1.000000</td>\n",
       "      <td>0.483663</td>\n",
       "    </tr>\n",
       "    <tr>\n",
       "      <td>product</td>\n",
       "      <td>0.143536</td>\n",
       "      <td>-0.192356</td>\n",
       "      <td>0.483663</td>\n",
       "      <td>1.000000</td>\n",
       "    </tr>\n",
       "  </tbody>\n",
       "</table>\n",
       "</div>"
      ],
      "text/plain": [
       "               f0        f1        f2   product\n",
       "f0       1.000000 -0.440723 -0.003153  0.143536\n",
       "f1      -0.440723  1.000000  0.001724 -0.192356\n",
       "f2      -0.003153  0.001724  1.000000  0.483663\n",
       "product  0.143536 -0.192356  0.483663  1.000000"
      ]
     },
     "execution_count": 17,
     "metadata": {},
     "output_type": "execute_result"
    }
   ],
   "source": [
    "raw_data0.corr()"
   ]
  },
  {
   "cell_type": "code",
   "execution_count": 18,
   "metadata": {
    "ExecuteTime": {
     "end_time": "2021-01-21T18:37:56.060607Z",
     "start_time": "2021-01-21T18:37:55.960873Z"
    }
   },
   "outputs": [
    {
     "data": {
      "text/plain": [
       "0"
      ]
     },
     "execution_count": 18,
     "metadata": {},
     "output_type": "execute_result"
    }
   ],
   "source": [
    "raw_data0.duplicated().sum()"
   ]
  },
  {
   "cell_type": "markdown",
   "metadata": {},
   "source": [
    "#### Вывод по региону 1\n",
    "\n",
    "Данные нормальные. Нет пропусков и дубликатов. Также не видно сильных аномалий"
   ]
  },
  {
   "cell_type": "code",
   "execution_count": null,
   "metadata": {},
   "outputs": [],
   "source": []
  },
  {
   "cell_type": "markdown",
   "metadata": {},
   "source": [
    "### Регион №2"
   ]
  },
  {
   "cell_type": "code",
   "execution_count": 19,
   "metadata": {
    "ExecuteTime": {
     "end_time": "2021-01-21T18:37:56.095513Z",
     "start_time": "2021-01-21T18:37:56.067589Z"
    },
    "scrolled": false
   },
   "outputs": [
    {
     "data": {
      "text/html": [
       "<div>\n",
       "<style scoped>\n",
       "    .dataframe tbody tr th:only-of-type {\n",
       "        vertical-align: middle;\n",
       "    }\n",
       "\n",
       "    .dataframe tbody tr th {\n",
       "        vertical-align: top;\n",
       "    }\n",
       "\n",
       "    .dataframe thead th {\n",
       "        text-align: right;\n",
       "    }\n",
       "</style>\n",
       "<table border=\"1\" class=\"dataframe\">\n",
       "  <thead>\n",
       "    <tr style=\"text-align: right;\">\n",
       "      <th></th>\n",
       "      <th>id</th>\n",
       "      <th>f0</th>\n",
       "      <th>f1</th>\n",
       "      <th>f2</th>\n",
       "      <th>product</th>\n",
       "    </tr>\n",
       "  </thead>\n",
       "  <tbody>\n",
       "    <tr>\n",
       "      <td>0</td>\n",
       "      <td>kBEdx</td>\n",
       "      <td>-15.001348</td>\n",
       "      <td>-8.276000</td>\n",
       "      <td>-0.005876</td>\n",
       "      <td>3.179103</td>\n",
       "    </tr>\n",
       "    <tr>\n",
       "      <td>1</td>\n",
       "      <td>62mP7</td>\n",
       "      <td>14.272088</td>\n",
       "      <td>-3.475083</td>\n",
       "      <td>0.999183</td>\n",
       "      <td>26.953261</td>\n",
       "    </tr>\n",
       "    <tr>\n",
       "      <td>2</td>\n",
       "      <td>vyE1P</td>\n",
       "      <td>6.263187</td>\n",
       "      <td>-5.948386</td>\n",
       "      <td>5.001160</td>\n",
       "      <td>134.766305</td>\n",
       "    </tr>\n",
       "    <tr>\n",
       "      <td>3</td>\n",
       "      <td>KcrkZ</td>\n",
       "      <td>-13.081196</td>\n",
       "      <td>-11.506057</td>\n",
       "      <td>4.999415</td>\n",
       "      <td>137.945408</td>\n",
       "    </tr>\n",
       "    <tr>\n",
       "      <td>4</td>\n",
       "      <td>AHL4O</td>\n",
       "      <td>12.702195</td>\n",
       "      <td>-8.147433</td>\n",
       "      <td>5.004363</td>\n",
       "      <td>134.766305</td>\n",
       "    </tr>\n",
       "    <tr>\n",
       "      <td>...</td>\n",
       "      <td>...</td>\n",
       "      <td>...</td>\n",
       "      <td>...</td>\n",
       "      <td>...</td>\n",
       "      <td>...</td>\n",
       "    </tr>\n",
       "    <tr>\n",
       "      <td>99995</td>\n",
       "      <td>QywKC</td>\n",
       "      <td>9.535637</td>\n",
       "      <td>-6.878139</td>\n",
       "      <td>1.998296</td>\n",
       "      <td>53.906522</td>\n",
       "    </tr>\n",
       "    <tr>\n",
       "      <td>99996</td>\n",
       "      <td>ptvty</td>\n",
       "      <td>-10.160631</td>\n",
       "      <td>-12.558096</td>\n",
       "      <td>5.005581</td>\n",
       "      <td>137.945408</td>\n",
       "    </tr>\n",
       "    <tr>\n",
       "      <td>99997</td>\n",
       "      <td>09gWa</td>\n",
       "      <td>-7.378891</td>\n",
       "      <td>-3.084104</td>\n",
       "      <td>4.998651</td>\n",
       "      <td>137.945408</td>\n",
       "    </tr>\n",
       "    <tr>\n",
       "      <td>99998</td>\n",
       "      <td>rqwUm</td>\n",
       "      <td>0.665714</td>\n",
       "      <td>-6.152593</td>\n",
       "      <td>1.000146</td>\n",
       "      <td>30.132364</td>\n",
       "    </tr>\n",
       "    <tr>\n",
       "      <td>99999</td>\n",
       "      <td>relB0</td>\n",
       "      <td>-3.426139</td>\n",
       "      <td>-7.794274</td>\n",
       "      <td>-0.003299</td>\n",
       "      <td>3.179103</td>\n",
       "    </tr>\n",
       "  </tbody>\n",
       "</table>\n",
       "<p>100000 rows × 5 columns</p>\n",
       "</div>"
      ],
      "text/plain": [
       "          id         f0         f1        f2     product\n",
       "0      kBEdx -15.001348  -8.276000 -0.005876    3.179103\n",
       "1      62mP7  14.272088  -3.475083  0.999183   26.953261\n",
       "2      vyE1P   6.263187  -5.948386  5.001160  134.766305\n",
       "3      KcrkZ -13.081196 -11.506057  4.999415  137.945408\n",
       "4      AHL4O  12.702195  -8.147433  5.004363  134.766305\n",
       "...      ...        ...        ...       ...         ...\n",
       "99995  QywKC   9.535637  -6.878139  1.998296   53.906522\n",
       "99996  ptvty -10.160631 -12.558096  5.005581  137.945408\n",
       "99997  09gWa  -7.378891  -3.084104  4.998651  137.945408\n",
       "99998  rqwUm   0.665714  -6.152593  1.000146   30.132364\n",
       "99999  relB0  -3.426139  -7.794274 -0.003299    3.179103\n",
       "\n",
       "[100000 rows x 5 columns]"
      ]
     },
     "execution_count": 19,
     "metadata": {},
     "output_type": "execute_result"
    }
   ],
   "source": [
    "raw_data1"
   ]
  },
  {
   "cell_type": "code",
   "execution_count": 20,
   "metadata": {
    "ExecuteTime": {
     "end_time": "2021-01-21T18:37:56.121444Z",
     "start_time": "2021-01-21T18:37:56.097507Z"
    },
    "scrolled": true
   },
   "outputs": [
    {
     "name": "stdout",
     "output_type": "stream",
     "text": [
      "<class 'pandas.core.frame.DataFrame'>\n",
      "RangeIndex: 100000 entries, 0 to 99999\n",
      "Data columns (total 5 columns):\n",
      "id         100000 non-null object\n",
      "f0         100000 non-null float64\n",
      "f1         100000 non-null float64\n",
      "f2         100000 non-null float64\n",
      "product    100000 non-null float64\n",
      "dtypes: float64(4), object(1)\n",
      "memory usage: 3.8+ MB\n"
     ]
    }
   ],
   "source": [
    "raw_data1.info()"
   ]
  },
  {
   "cell_type": "code",
   "execution_count": 21,
   "metadata": {
    "ExecuteTime": {
     "end_time": "2021-01-21T18:37:56.174302Z",
     "start_time": "2021-01-21T18:37:56.125432Z"
    },
    "scrolled": true
   },
   "outputs": [
    {
     "data": {
      "text/html": [
       "<div>\n",
       "<style scoped>\n",
       "    .dataframe tbody tr th:only-of-type {\n",
       "        vertical-align: middle;\n",
       "    }\n",
       "\n",
       "    .dataframe tbody tr th {\n",
       "        vertical-align: top;\n",
       "    }\n",
       "\n",
       "    .dataframe thead th {\n",
       "        text-align: right;\n",
       "    }\n",
       "</style>\n",
       "<table border=\"1\" class=\"dataframe\">\n",
       "  <thead>\n",
       "    <tr style=\"text-align: right;\">\n",
       "      <th></th>\n",
       "      <th>f0</th>\n",
       "      <th>f1</th>\n",
       "      <th>f2</th>\n",
       "      <th>product</th>\n",
       "    </tr>\n",
       "  </thead>\n",
       "  <tbody>\n",
       "    <tr>\n",
       "      <td>count</td>\n",
       "      <td>100000.000000</td>\n",
       "      <td>100000.000000</td>\n",
       "      <td>100000.000000</td>\n",
       "      <td>100000.000000</td>\n",
       "    </tr>\n",
       "    <tr>\n",
       "      <td>mean</td>\n",
       "      <td>1.141296</td>\n",
       "      <td>-4.796579</td>\n",
       "      <td>2.494541</td>\n",
       "      <td>68.825000</td>\n",
       "    </tr>\n",
       "    <tr>\n",
       "      <td>std</td>\n",
       "      <td>8.965932</td>\n",
       "      <td>5.119872</td>\n",
       "      <td>1.703572</td>\n",
       "      <td>45.944423</td>\n",
       "    </tr>\n",
       "    <tr>\n",
       "      <td>min</td>\n",
       "      <td>-31.609576</td>\n",
       "      <td>-26.358598</td>\n",
       "      <td>-0.018144</td>\n",
       "      <td>0.000000</td>\n",
       "    </tr>\n",
       "    <tr>\n",
       "      <td>25%</td>\n",
       "      <td>-6.298551</td>\n",
       "      <td>-8.267985</td>\n",
       "      <td>1.000021</td>\n",
       "      <td>26.953261</td>\n",
       "    </tr>\n",
       "    <tr>\n",
       "      <td>50%</td>\n",
       "      <td>1.153055</td>\n",
       "      <td>-4.813172</td>\n",
       "      <td>2.011479</td>\n",
       "      <td>57.085625</td>\n",
       "    </tr>\n",
       "    <tr>\n",
       "      <td>75%</td>\n",
       "      <td>8.621015</td>\n",
       "      <td>-1.332816</td>\n",
       "      <td>3.999904</td>\n",
       "      <td>107.813044</td>\n",
       "    </tr>\n",
       "    <tr>\n",
       "      <td>max</td>\n",
       "      <td>29.421755</td>\n",
       "      <td>18.734063</td>\n",
       "      <td>5.019721</td>\n",
       "      <td>137.945408</td>\n",
       "    </tr>\n",
       "  </tbody>\n",
       "</table>\n",
       "</div>"
      ],
      "text/plain": [
       "                  f0             f1             f2        product\n",
       "count  100000.000000  100000.000000  100000.000000  100000.000000\n",
       "mean        1.141296      -4.796579       2.494541      68.825000\n",
       "std         8.965932       5.119872       1.703572      45.944423\n",
       "min       -31.609576     -26.358598      -0.018144       0.000000\n",
       "25%        -6.298551      -8.267985       1.000021      26.953261\n",
       "50%         1.153055      -4.813172       2.011479      57.085625\n",
       "75%         8.621015      -1.332816       3.999904     107.813044\n",
       "max        29.421755      18.734063       5.019721     137.945408"
      ]
     },
     "execution_count": 21,
     "metadata": {},
     "output_type": "execute_result"
    }
   ],
   "source": [
    "raw_data1.describe()"
   ]
  },
  {
   "cell_type": "code",
   "execution_count": 22,
   "metadata": {
    "ExecuteTime": {
     "end_time": "2021-01-21T18:37:56.198238Z",
     "start_time": "2021-01-21T18:37:56.176296Z"
    }
   },
   "outputs": [
    {
     "data": {
      "text/html": [
       "<div>\n",
       "<style scoped>\n",
       "    .dataframe tbody tr th:only-of-type {\n",
       "        vertical-align: middle;\n",
       "    }\n",
       "\n",
       "    .dataframe tbody tr th {\n",
       "        vertical-align: top;\n",
       "    }\n",
       "\n",
       "    .dataframe thead th {\n",
       "        text-align: right;\n",
       "    }\n",
       "</style>\n",
       "<table border=\"1\" class=\"dataframe\">\n",
       "  <thead>\n",
       "    <tr style=\"text-align: right;\">\n",
       "      <th></th>\n",
       "      <th>f0</th>\n",
       "      <th>f1</th>\n",
       "      <th>f2</th>\n",
       "      <th>product</th>\n",
       "    </tr>\n",
       "  </thead>\n",
       "  <tbody>\n",
       "    <tr>\n",
       "      <td>f0</td>\n",
       "      <td>1.000000</td>\n",
       "      <td>0.182287</td>\n",
       "      <td>-0.001777</td>\n",
       "      <td>-0.030491</td>\n",
       "    </tr>\n",
       "    <tr>\n",
       "      <td>f1</td>\n",
       "      <td>0.182287</td>\n",
       "      <td>1.000000</td>\n",
       "      <td>-0.002595</td>\n",
       "      <td>-0.010155</td>\n",
       "    </tr>\n",
       "    <tr>\n",
       "      <td>f2</td>\n",
       "      <td>-0.001777</td>\n",
       "      <td>-0.002595</td>\n",
       "      <td>1.000000</td>\n",
       "      <td>0.999397</td>\n",
       "    </tr>\n",
       "    <tr>\n",
       "      <td>product</td>\n",
       "      <td>-0.030491</td>\n",
       "      <td>-0.010155</td>\n",
       "      <td>0.999397</td>\n",
       "      <td>1.000000</td>\n",
       "    </tr>\n",
       "  </tbody>\n",
       "</table>\n",
       "</div>"
      ],
      "text/plain": [
       "               f0        f1        f2   product\n",
       "f0       1.000000  0.182287 -0.001777 -0.030491\n",
       "f1       0.182287  1.000000 -0.002595 -0.010155\n",
       "f2      -0.001777 -0.002595  1.000000  0.999397\n",
       "product -0.030491 -0.010155  0.999397  1.000000"
      ]
     },
     "execution_count": 22,
     "metadata": {},
     "output_type": "execute_result"
    }
   ],
   "source": [
    "raw_data1.corr()"
   ]
  },
  {
   "cell_type": "code",
   "execution_count": 23,
   "metadata": {
    "ExecuteTime": {
     "end_time": "2021-01-21T18:37:56.287998Z",
     "start_time": "2021-01-21T18:37:56.203225Z"
    }
   },
   "outputs": [
    {
     "data": {
      "text/plain": [
       "0"
      ]
     },
     "execution_count": 23,
     "metadata": {},
     "output_type": "execute_result"
    }
   ],
   "source": [
    "raw_data1.duplicated().sum()"
   ]
  },
  {
   "cell_type": "markdown",
   "metadata": {},
   "source": [
    "#### Вывод по региону 2\n",
    "\n",
    "Данные нормальные. Нет пропусков и дубликатов. Не видно сильных аномалий.\n",
    "\n",
    "Также есть интересная особенность параметр f2 очень сильно коррелирует с цеелвым признаком. Далее мы попробуем только на этом признаке обучить модель, посмотрим что из этого получится."
   ]
  },
  {
   "cell_type": "markdown",
   "metadata": {},
   "source": [
    "### Регион №3\n"
   ]
  },
  {
   "cell_type": "code",
   "execution_count": 24,
   "metadata": {
    "ExecuteTime": {
     "end_time": "2021-01-21T18:37:56.310937Z",
     "start_time": "2021-01-21T18:37:56.291987Z"
    }
   },
   "outputs": [
    {
     "data": {
      "text/html": [
       "<div>\n",
       "<style scoped>\n",
       "    .dataframe tbody tr th:only-of-type {\n",
       "        vertical-align: middle;\n",
       "    }\n",
       "\n",
       "    .dataframe tbody tr th {\n",
       "        vertical-align: top;\n",
       "    }\n",
       "\n",
       "    .dataframe thead th {\n",
       "        text-align: right;\n",
       "    }\n",
       "</style>\n",
       "<table border=\"1\" class=\"dataframe\">\n",
       "  <thead>\n",
       "    <tr style=\"text-align: right;\">\n",
       "      <th></th>\n",
       "      <th>id</th>\n",
       "      <th>f0</th>\n",
       "      <th>f1</th>\n",
       "      <th>f2</th>\n",
       "      <th>product</th>\n",
       "    </tr>\n",
       "  </thead>\n",
       "  <tbody>\n",
       "    <tr>\n",
       "      <td>0</td>\n",
       "      <td>fwXo0</td>\n",
       "      <td>-1.146987</td>\n",
       "      <td>0.963328</td>\n",
       "      <td>-0.828965</td>\n",
       "      <td>27.758673</td>\n",
       "    </tr>\n",
       "    <tr>\n",
       "      <td>1</td>\n",
       "      <td>WJtFt</td>\n",
       "      <td>0.262778</td>\n",
       "      <td>0.269839</td>\n",
       "      <td>-2.530187</td>\n",
       "      <td>56.069697</td>\n",
       "    </tr>\n",
       "    <tr>\n",
       "      <td>2</td>\n",
       "      <td>ovLUW</td>\n",
       "      <td>0.194587</td>\n",
       "      <td>0.289035</td>\n",
       "      <td>-5.586433</td>\n",
       "      <td>62.871910</td>\n",
       "    </tr>\n",
       "    <tr>\n",
       "      <td>3</td>\n",
       "      <td>q6cA6</td>\n",
       "      <td>2.236060</td>\n",
       "      <td>-0.553760</td>\n",
       "      <td>0.930038</td>\n",
       "      <td>114.572842</td>\n",
       "    </tr>\n",
       "    <tr>\n",
       "      <td>4</td>\n",
       "      <td>WPMUX</td>\n",
       "      <td>-0.515993</td>\n",
       "      <td>1.716266</td>\n",
       "      <td>5.899011</td>\n",
       "      <td>149.600746</td>\n",
       "    </tr>\n",
       "    <tr>\n",
       "      <td>...</td>\n",
       "      <td>...</td>\n",
       "      <td>...</td>\n",
       "      <td>...</td>\n",
       "      <td>...</td>\n",
       "      <td>...</td>\n",
       "    </tr>\n",
       "    <tr>\n",
       "      <td>99995</td>\n",
       "      <td>4GxBu</td>\n",
       "      <td>-1.777037</td>\n",
       "      <td>1.125220</td>\n",
       "      <td>6.263374</td>\n",
       "      <td>172.327046</td>\n",
       "    </tr>\n",
       "    <tr>\n",
       "      <td>99996</td>\n",
       "      <td>YKFjq</td>\n",
       "      <td>-1.261523</td>\n",
       "      <td>-0.894828</td>\n",
       "      <td>2.524545</td>\n",
       "      <td>138.748846</td>\n",
       "    </tr>\n",
       "    <tr>\n",
       "      <td>99997</td>\n",
       "      <td>tKPY3</td>\n",
       "      <td>-1.199934</td>\n",
       "      <td>-2.957637</td>\n",
       "      <td>5.219411</td>\n",
       "      <td>157.080080</td>\n",
       "    </tr>\n",
       "    <tr>\n",
       "      <td>99998</td>\n",
       "      <td>nmxp2</td>\n",
       "      <td>-2.419896</td>\n",
       "      <td>2.417221</td>\n",
       "      <td>-5.548444</td>\n",
       "      <td>51.795253</td>\n",
       "    </tr>\n",
       "    <tr>\n",
       "      <td>99999</td>\n",
       "      <td>V9kWn</td>\n",
       "      <td>-2.551421</td>\n",
       "      <td>-2.025625</td>\n",
       "      <td>6.090891</td>\n",
       "      <td>102.775767</td>\n",
       "    </tr>\n",
       "  </tbody>\n",
       "</table>\n",
       "<p>100000 rows × 5 columns</p>\n",
       "</div>"
      ],
      "text/plain": [
       "          id        f0        f1        f2     product\n",
       "0      fwXo0 -1.146987  0.963328 -0.828965   27.758673\n",
       "1      WJtFt  0.262778  0.269839 -2.530187   56.069697\n",
       "2      ovLUW  0.194587  0.289035 -5.586433   62.871910\n",
       "3      q6cA6  2.236060 -0.553760  0.930038  114.572842\n",
       "4      WPMUX -0.515993  1.716266  5.899011  149.600746\n",
       "...      ...       ...       ...       ...         ...\n",
       "99995  4GxBu -1.777037  1.125220  6.263374  172.327046\n",
       "99996  YKFjq -1.261523 -0.894828  2.524545  138.748846\n",
       "99997  tKPY3 -1.199934 -2.957637  5.219411  157.080080\n",
       "99998  nmxp2 -2.419896  2.417221 -5.548444   51.795253\n",
       "99999  V9kWn -2.551421 -2.025625  6.090891  102.775767\n",
       "\n",
       "[100000 rows x 5 columns]"
      ]
     },
     "execution_count": 24,
     "metadata": {},
     "output_type": "execute_result"
    }
   ],
   "source": [
    "raw_data2"
   ]
  },
  {
   "cell_type": "code",
   "execution_count": 25,
   "metadata": {
    "ExecuteTime": {
     "end_time": "2021-01-21T18:37:56.334873Z",
     "start_time": "2021-01-21T18:37:56.312931Z"
    }
   },
   "outputs": [
    {
     "name": "stdout",
     "output_type": "stream",
     "text": [
      "<class 'pandas.core.frame.DataFrame'>\n",
      "RangeIndex: 100000 entries, 0 to 99999\n",
      "Data columns (total 5 columns):\n",
      "id         100000 non-null object\n",
      "f0         100000 non-null float64\n",
      "f1         100000 non-null float64\n",
      "f2         100000 non-null float64\n",
      "product    100000 non-null float64\n",
      "dtypes: float64(4), object(1)\n",
      "memory usage: 3.8+ MB\n"
     ]
    }
   ],
   "source": [
    "raw_data2.info()"
   ]
  },
  {
   "cell_type": "code",
   "execution_count": 26,
   "metadata": {
    "ExecuteTime": {
     "end_time": "2021-01-21T18:37:56.386735Z",
     "start_time": "2021-01-21T18:37:56.336867Z"
    },
    "scrolled": true
   },
   "outputs": [
    {
     "data": {
      "text/html": [
       "<div>\n",
       "<style scoped>\n",
       "    .dataframe tbody tr th:only-of-type {\n",
       "        vertical-align: middle;\n",
       "    }\n",
       "\n",
       "    .dataframe tbody tr th {\n",
       "        vertical-align: top;\n",
       "    }\n",
       "\n",
       "    .dataframe thead th {\n",
       "        text-align: right;\n",
       "    }\n",
       "</style>\n",
       "<table border=\"1\" class=\"dataframe\">\n",
       "  <thead>\n",
       "    <tr style=\"text-align: right;\">\n",
       "      <th></th>\n",
       "      <th>f0</th>\n",
       "      <th>f1</th>\n",
       "      <th>f2</th>\n",
       "      <th>product</th>\n",
       "    </tr>\n",
       "  </thead>\n",
       "  <tbody>\n",
       "    <tr>\n",
       "      <td>count</td>\n",
       "      <td>100000.000000</td>\n",
       "      <td>100000.000000</td>\n",
       "      <td>100000.000000</td>\n",
       "      <td>100000.000000</td>\n",
       "    </tr>\n",
       "    <tr>\n",
       "      <td>mean</td>\n",
       "      <td>0.002023</td>\n",
       "      <td>-0.002081</td>\n",
       "      <td>2.495128</td>\n",
       "      <td>95.000000</td>\n",
       "    </tr>\n",
       "    <tr>\n",
       "      <td>std</td>\n",
       "      <td>1.732045</td>\n",
       "      <td>1.730417</td>\n",
       "      <td>3.473445</td>\n",
       "      <td>44.749921</td>\n",
       "    </tr>\n",
       "    <tr>\n",
       "      <td>min</td>\n",
       "      <td>-8.760004</td>\n",
       "      <td>-7.084020</td>\n",
       "      <td>-11.970335</td>\n",
       "      <td>0.000000</td>\n",
       "    </tr>\n",
       "    <tr>\n",
       "      <td>25%</td>\n",
       "      <td>-1.162288</td>\n",
       "      <td>-1.174820</td>\n",
       "      <td>0.130359</td>\n",
       "      <td>59.450441</td>\n",
       "    </tr>\n",
       "    <tr>\n",
       "      <td>50%</td>\n",
       "      <td>0.009424</td>\n",
       "      <td>-0.009482</td>\n",
       "      <td>2.484236</td>\n",
       "      <td>94.925613</td>\n",
       "    </tr>\n",
       "    <tr>\n",
       "      <td>75%</td>\n",
       "      <td>1.158535</td>\n",
       "      <td>1.163678</td>\n",
       "      <td>4.858794</td>\n",
       "      <td>130.595027</td>\n",
       "    </tr>\n",
       "    <tr>\n",
       "      <td>max</td>\n",
       "      <td>7.238262</td>\n",
       "      <td>7.844801</td>\n",
       "      <td>16.739402</td>\n",
       "      <td>190.029838</td>\n",
       "    </tr>\n",
       "  </tbody>\n",
       "</table>\n",
       "</div>"
      ],
      "text/plain": [
       "                  f0             f1             f2        product\n",
       "count  100000.000000  100000.000000  100000.000000  100000.000000\n",
       "mean        0.002023      -0.002081       2.495128      95.000000\n",
       "std         1.732045       1.730417       3.473445      44.749921\n",
       "min        -8.760004      -7.084020     -11.970335       0.000000\n",
       "25%        -1.162288      -1.174820       0.130359      59.450441\n",
       "50%         0.009424      -0.009482       2.484236      94.925613\n",
       "75%         1.158535       1.163678       4.858794     130.595027\n",
       "max         7.238262       7.844801      16.739402     190.029838"
      ]
     },
     "execution_count": 26,
     "metadata": {},
     "output_type": "execute_result"
    }
   ],
   "source": [
    "raw_data2.describe()"
   ]
  },
  {
   "cell_type": "code",
   "execution_count": 27,
   "metadata": {
    "ExecuteTime": {
     "end_time": "2021-01-21T18:37:56.416654Z",
     "start_time": "2021-01-21T18:37:56.390725Z"
    }
   },
   "outputs": [
    {
     "data": {
      "text/html": [
       "<div>\n",
       "<style scoped>\n",
       "    .dataframe tbody tr th:only-of-type {\n",
       "        vertical-align: middle;\n",
       "    }\n",
       "\n",
       "    .dataframe tbody tr th {\n",
       "        vertical-align: top;\n",
       "    }\n",
       "\n",
       "    .dataframe thead th {\n",
       "        text-align: right;\n",
       "    }\n",
       "</style>\n",
       "<table border=\"1\" class=\"dataframe\">\n",
       "  <thead>\n",
       "    <tr style=\"text-align: right;\">\n",
       "      <th></th>\n",
       "      <th>f0</th>\n",
       "      <th>f1</th>\n",
       "      <th>f2</th>\n",
       "      <th>product</th>\n",
       "    </tr>\n",
       "  </thead>\n",
       "  <tbody>\n",
       "    <tr>\n",
       "      <td>f0</td>\n",
       "      <td>1.000000</td>\n",
       "      <td>0.000528</td>\n",
       "      <td>-0.000448</td>\n",
       "      <td>-0.001987</td>\n",
       "    </tr>\n",
       "    <tr>\n",
       "      <td>f1</td>\n",
       "      <td>0.000528</td>\n",
       "      <td>1.000000</td>\n",
       "      <td>0.000779</td>\n",
       "      <td>-0.001012</td>\n",
       "    </tr>\n",
       "    <tr>\n",
       "      <td>f2</td>\n",
       "      <td>-0.000448</td>\n",
       "      <td>0.000779</td>\n",
       "      <td>1.000000</td>\n",
       "      <td>0.445871</td>\n",
       "    </tr>\n",
       "    <tr>\n",
       "      <td>product</td>\n",
       "      <td>-0.001987</td>\n",
       "      <td>-0.001012</td>\n",
       "      <td>0.445871</td>\n",
       "      <td>1.000000</td>\n",
       "    </tr>\n",
       "  </tbody>\n",
       "</table>\n",
       "</div>"
      ],
      "text/plain": [
       "               f0        f1        f2   product\n",
       "f0       1.000000  0.000528 -0.000448 -0.001987\n",
       "f1       0.000528  1.000000  0.000779 -0.001012\n",
       "f2      -0.000448  0.000779  1.000000  0.445871\n",
       "product -0.001987 -0.001012  0.445871  1.000000"
      ]
     },
     "execution_count": 27,
     "metadata": {},
     "output_type": "execute_result"
    }
   ],
   "source": [
    "raw_data2.corr()"
   ]
  },
  {
   "cell_type": "code",
   "execution_count": 28,
   "metadata": {
    "ExecuteTime": {
     "end_time": "2021-01-21T18:37:56.519379Z",
     "start_time": "2021-01-21T18:37:56.418649Z"
    }
   },
   "outputs": [
    {
     "data": {
      "text/plain": [
       "0"
      ]
     },
     "execution_count": 28,
     "metadata": {},
     "output_type": "execute_result"
    }
   ],
   "source": [
    "raw_data2.duplicated().sum()"
   ]
  },
  {
   "cell_type": "markdown",
   "metadata": {},
   "source": [
    "#### Вывод по региону 3\n",
    "\n",
    "Данные нормальные. Нет пропусков и дубликатов. Не видно сильных аномалий."
   ]
  },
  {
   "cell_type": "markdown",
   "metadata": {},
   "source": [
    "<div class=\"alert alert-block alert-success\">\n",
    "<b>Успех:</b> Загрузка данных и первичный анализ сделаны корректно\n",
    "</div>\n"
   ]
  },
  {
   "cell_type": "markdown",
   "metadata": {},
   "source": [
    "# Обучение и проверка модели"
   ]
  },
  {
   "cell_type": "code",
   "execution_count": 29,
   "metadata": {
    "ExecuteTime": {
     "end_time": "2021-01-21T18:37:56.527358Z",
     "start_time": "2021-01-21T18:37:56.522372Z"
    }
   },
   "outputs": [],
   "source": [
    "# Зададим значения randomState для получения одинаковых результатов\n",
    "randomState = 42\n",
    "state = RandomState(randomState) "
   ]
  },
  {
   "cell_type": "markdown",
   "metadata": {},
   "source": [
    "## Регион №1"
   ]
  },
  {
   "cell_type": "code",
   "execution_count": 30,
   "metadata": {
    "ExecuteTime": {
     "end_time": "2021-01-21T18:37:56.539333Z",
     "start_time": "2021-01-21T18:37:56.529352Z"
    }
   },
   "outputs": [],
   "source": [
    "# Выделяем отдельно признаки, отдельно целевой признак\n",
    "# Столбец id нам также не нужен для обучения\n",
    "features0 = raw_data0.drop(['product', 'id'], axis=1) \n",
    "target0 = raw_data0['product']\n",
    "# features0"
   ]
  },
  {
   "cell_type": "code",
   "execution_count": 31,
   "metadata": {
    "ExecuteTime": {
     "end_time": "2021-01-21T18:37:56.570248Z",
     "start_time": "2021-01-21T18:37:56.543328Z"
    }
   },
   "outputs": [],
   "source": [
    "# Делим датаест на обучающую и валидационную выборки\n",
    "features_train0, features_valid0, target_train0, target_valid0 = train_test_split(\n",
    "    features0, target0, test_size=0.25, random_state=randomState)"
   ]
  },
  {
   "cell_type": "code",
   "execution_count": 32,
   "metadata": {
    "ExecuteTime": {
     "end_time": "2021-01-21T18:37:56.576227Z",
     "start_time": "2021-01-21T18:37:56.572239Z"
    }
   },
   "outputs": [],
   "source": [
    "# Наша модель которая будет делать все предсказания\n",
    "model = LinearRegression()"
   ]
  },
  {
   "cell_type": "code",
   "execution_count": 33,
   "metadata": {
    "ExecuteTime": {
     "end_time": "2021-01-21T18:37:56.586201Z",
     "start_time": "2021-01-21T18:37:56.578223Z"
    }
   },
   "outputs": [],
   "source": [
    "# Функция вывода всей нужной нам информации о модели\n",
    "def model_specifications(features_train, features_valid, target_train, target_valid):\n",
    "    model.fit(features_train, target_train)\n",
    "    predictions_valid = model.predict(features_valid)\n",
    "    result = mean_squared_error(target_valid, predictions_valid)**0.5 # RMSE на валидационной выборке\n",
    "    print(\"RMSE модели линейной регрессии на валидационной выборке: {:.2f}\".format(result))\n",
    "\n",
    "    raw_material_stock_pred = predictions_valid.mean()\n",
    "    raw_material_stock_real = target_valid.mean()\n",
    "    print('Средний запас предсказанного сырья - {:.2f}'.format(raw_material_stock_pred))\n",
    "    print('Средний запас реального сырья - {:.2f}'.format(raw_material_stock_real))\n",
    "    confidence_interval = t.interval(0.95, len(target_valid0), target_valid0.mean(), target_valid0.sem())\n",
    "    print('95%-ый доверительный интервал:', confidence_interval)\n"
   ]
  },
  {
   "cell_type": "code",
   "execution_count": 34,
   "metadata": {
    "ExecuteTime": {
     "end_time": "2021-01-21T18:37:56.710870Z",
     "start_time": "2021-01-21T18:37:56.589193Z"
    }
   },
   "outputs": [
    {
     "name": "stdout",
     "output_type": "stream",
     "text": [
      "RMSE модели линейной регрессии на валидационной выборке: 37.76\n",
      "Средний запас предсказанного сырья - 92.40\n",
      "Средний запас реального сырья - 92.33\n",
      "95%-ый доверительный интервал: (91.77707015145042, 92.87484259023732)\n"
     ]
    }
   ],
   "source": [
    "model_specifications(features_train0, features_valid0, target_train0, target_valid0)"
   ]
  },
  {
   "cell_type": "markdown",
   "metadata": {},
   "source": [
    "Попробуем нормализовать числовые данные, может это позволит уменьшить RMSE"
   ]
  },
  {
   "cell_type": "code",
   "execution_count": 35,
   "metadata": {
    "ExecuteTime": {
     "end_time": "2021-01-21T18:37:56.765719Z",
     "start_time": "2021-01-21T18:37:56.712862Z"
    },
    "scrolled": true
   },
   "outputs": [
    {
     "data": {
      "text/html": [
       "<div>\n",
       "<style scoped>\n",
       "    .dataframe tbody tr th:only-of-type {\n",
       "        vertical-align: middle;\n",
       "    }\n",
       "\n",
       "    .dataframe tbody tr th {\n",
       "        vertical-align: top;\n",
       "    }\n",
       "\n",
       "    .dataframe thead th {\n",
       "        text-align: right;\n",
       "    }\n",
       "</style>\n",
       "<table border=\"1\" class=\"dataframe\">\n",
       "  <thead>\n",
       "    <tr style=\"text-align: right;\">\n",
       "      <th></th>\n",
       "      <th>f0</th>\n",
       "      <th>f1</th>\n",
       "      <th>f2</th>\n",
       "    </tr>\n",
       "  </thead>\n",
       "  <tbody>\n",
       "    <tr>\n",
       "      <td>0</td>\n",
       "      <td>0.235512</td>\n",
       "      <td>-1.482793</td>\n",
       "      <td>-0.394515</td>\n",
       "    </tr>\n",
       "    <tr>\n",
       "      <td>1</td>\n",
       "      <td>0.956946</td>\n",
       "      <td>-1.170246</td>\n",
       "      <td>0.573368</td>\n",
       "    </tr>\n",
       "    <tr>\n",
       "      <td>2</td>\n",
       "      <td>0.599101</td>\n",
       "      <td>-0.194581</td>\n",
       "      <td>-0.333326</td>\n",
       "    </tr>\n",
       "    <tr>\n",
       "      <td>3</td>\n",
       "      <td>-0.610890</td>\n",
       "      <td>-0.220269</td>\n",
       "      <td>0.146516</td>\n",
       "    </tr>\n",
       "    <tr>\n",
       "      <td>4</td>\n",
       "      <td>1.706773</td>\n",
       "      <td>-0.187797</td>\n",
       "      <td>0.692414</td>\n",
       "    </tr>\n",
       "    <tr>\n",
       "      <td>...</td>\n",
       "      <td>...</td>\n",
       "      <td>...</td>\n",
       "      <td>...</td>\n",
       "    </tr>\n",
       "    <tr>\n",
       "      <td>99995</td>\n",
       "      <td>0.540861</td>\n",
       "      <td>0.239498</td>\n",
       "      <td>1.099890</td>\n",
       "    </tr>\n",
       "    <tr>\n",
       "      <td>99996</td>\n",
       "      <td>1.023149</td>\n",
       "      <td>-1.254384</td>\n",
       "      <td>-0.378278</td>\n",
       "    </tr>\n",
       "    <tr>\n",
       "      <td>99997</td>\n",
       "      <td>0.606961</td>\n",
       "      <td>-0.458648</td>\n",
       "      <td>-1.185554</td>\n",
       "    </tr>\n",
       "    <tr>\n",
       "      <td>99998</td>\n",
       "      <td>0.570920</td>\n",
       "      <td>-1.543771</td>\n",
       "      <td>-0.282855</td>\n",
       "    </tr>\n",
       "    <tr>\n",
       "      <td>99999</td>\n",
       "      <td>1.450212</td>\n",
       "      <td>-1.024046</td>\n",
       "      <td>0.991371</td>\n",
       "    </tr>\n",
       "  </tbody>\n",
       "</table>\n",
       "<p>100000 rows × 3 columns</p>\n",
       "</div>"
      ],
      "text/plain": [
       "             f0        f1        f2\n",
       "0      0.235512 -1.482793 -0.394515\n",
       "1      0.956946 -1.170246  0.573368\n",
       "2      0.599101 -0.194581 -0.333326\n",
       "3     -0.610890 -0.220269  0.146516\n",
       "4      1.706773 -0.187797  0.692414\n",
       "...         ...       ...       ...\n",
       "99995  0.540861  0.239498  1.099890\n",
       "99996  1.023149 -1.254384 -0.378278\n",
       "99997  0.606961 -0.458648 -1.185554\n",
       "99998  0.570920 -1.543771 -0.282855\n",
       "99999  1.450212 -1.024046  0.991371\n",
       "\n",
       "[100000 rows x 3 columns]"
      ]
     },
     "execution_count": 35,
     "metadata": {},
     "output_type": "execute_result"
    }
   ],
   "source": [
    "features = ['f0', 'f1', 'f2']\n",
    "scaler = StandardScaler()\n",
    "scaler.fit(features0[features])\n",
    "features0[features] = scaler.transform(features0[features])\n",
    "features0"
   ]
  },
  {
   "cell_type": "markdown",
   "metadata": {},
   "source": [
    "<div class=\"alert alert-block alert-info\">\n",
    "<b>Совет:</b> Упс.... здесь небольшая ошибка, не критичная, но важная.<br>\n",
    "Масштабировать признаки на всем датасете может привести к утечке данных (data leak). Обучать scaler нужно только на трейне.\n",
    "Про Data Leaks можно почитать подробнее по следующим ссылкам:\n",
    "\n",
    "[Ссылка 1](https://towardsdatascience.com/preventing-data-leakage-in-your-machine-learning-model-9ae54b3cd1fb) <br>\n",
    "[Ссылка 2](https://machinelearningmastery.com/data-preparation-without-data-leakage/)\n",
    "</div>"
   ]
  },
  {
   "cell_type": "markdown",
   "metadata": {},
   "source": [
    "<div class=\"alert alert-block alert-warning\">\n",
    "<b>Комментарий студента:</b> \n",
    "    \n",
    "Понял, спасибо, обязательно посотрю!\n",
    "    \n",
    "Ну там ниже я пишу что мы не используем нормализованные данные. \n",
    "</div>"
   ]
  },
  {
   "cell_type": "code",
   "execution_count": 36,
   "metadata": {
    "ExecuteTime": {
     "end_time": "2021-01-21T18:37:56.794643Z",
     "start_time": "2021-01-21T18:37:56.768713Z"
    },
    "scrolled": false
   },
   "outputs": [],
   "source": [
    "# Еще раз разбиваем наш датасет\n",
    "features_train0, features_valid0, target_train0, target_valid0 = train_test_split(\n",
    "    features0, target0, test_size=0.25, random_state=randomState)\n"
   ]
  },
  {
   "cell_type": "code",
   "execution_count": 37,
   "metadata": {},
   "outputs": [],
   "source": [
    "# Сбрасываем индексы, это нам понадобитс для дальнейшего бутстрепа\n",
    "target_valid0.reset_index(drop=True, inplace=True)\n"
   ]
  },
  {
   "cell_type": "code",
   "execution_count": 38,
   "metadata": {
    "ExecuteTime": {
     "end_time": "2021-01-21T18:37:56.836687Z",
     "start_time": "2021-01-21T18:37:56.796640Z"
    },
    "scrolled": true
   },
   "outputs": [
    {
     "name": "stdout",
     "output_type": "stream",
     "text": [
      "RMSE модели линейной регрессии на валидационной выборке: 37.76\n",
      "Средний запас предсказанного сырья - 92.40\n",
      "Средний запас реального сырья - 92.33\n",
      "95%-ый доверительный интервал: (91.77707015145042, 92.87484259023732)\n"
     ]
    }
   ],
   "source": [
    "# И повторно запускаем нашу функцию\n",
    "model_specifications(features_train0, features_valid0, target_train0, target_valid0)"
   ]
  },
  {
   "cell_type": "markdown",
   "metadata": {},
   "source": [
    "**Нормализация числовых переменных не дала никакого результата, в бальнейшем делать этого не будем**"
   ]
  },
  {
   "cell_type": "markdown",
   "metadata": {},
   "source": [
    "**Для удобства запишем все в таблицу**"
   ]
  },
  {
   "cell_type": "code",
   "execution_count": 39,
   "metadata": {
    "ExecuteTime": {
     "end_time": "2021-01-21T18:37:56.853487Z",
     "start_time": "2021-01-21T18:37:56.839523Z"
    }
   },
   "outputs": [
    {
     "data": {
      "text/html": [
       "<div>\n",
       "<style scoped>\n",
       "    .dataframe tbody tr th:only-of-type {\n",
       "        vertical-align: middle;\n",
       "    }\n",
       "\n",
       "    .dataframe tbody tr th {\n",
       "        vertical-align: top;\n",
       "    }\n",
       "\n",
       "    .dataframe thead th {\n",
       "        text-align: right;\n",
       "    }\n",
       "</style>\n",
       "<table border=\"1\" class=\"dataframe\">\n",
       "  <thead>\n",
       "    <tr style=\"text-align: right;\">\n",
       "      <th></th>\n",
       "      <th>Сырые денные регион 1</th>\n",
       "    </tr>\n",
       "  </thead>\n",
       "  <tbody>\n",
       "    <tr>\n",
       "      <td>RMSE на валидационной выборке</td>\n",
       "      <td>37.76</td>\n",
       "    </tr>\n",
       "    <tr>\n",
       "      <td>Средний запас предсказанного сырья</td>\n",
       "      <td>92.40</td>\n",
       "    </tr>\n",
       "    <tr>\n",
       "      <td>Средний запас реального сырья</td>\n",
       "      <td>92.33</td>\n",
       "    </tr>\n",
       "  </tbody>\n",
       "</table>\n",
       "</div>"
      ],
      "text/plain": [
       "                                   Сырые денные регион 1\n",
       "RMSE на валидационной выборке                      37.76\n",
       "Средний запас предсказанного сырья                 92.40\n",
       "Средний запас реального сырья                      92.33"
      ]
     },
     "execution_count": 39,
     "metadata": {},
     "output_type": "execute_result"
    }
   ],
   "source": [
    "results = pd.DataFrame(index=['RMSE на валидационной выборке', 'Средний запас предсказанного сырья', \n",
    "                              'Средний запас реального сырья'])\n",
    "results['Сырые денные регион 1'] = ['37.76', '92.40', '92.33']\n",
    "results"
   ]
  },
  {
   "cell_type": "code",
   "execution_count": 40,
   "metadata": {
    "ExecuteTime": {
     "end_time": "2021-01-21T18:37:56.866450Z",
     "start_time": "2021-01-21T18:37:56.856479Z"
    }
   },
   "outputs": [],
   "source": [
    "# confidence_interval = t.interval(0.95, len(target_valid0), target_valid0.mean(), target_valid0.sem())\n",
    "# confidence_interval"
   ]
  },
  {
   "cell_type": "markdown",
   "metadata": {},
   "source": [
    "## Регион №2"
   ]
  },
  {
   "cell_type": "code",
   "execution_count": 41,
   "metadata": {
    "ExecuteTime": {
     "end_time": "2021-01-21T18:37:56.878419Z",
     "start_time": "2021-01-21T18:37:56.869443Z"
    }
   },
   "outputs": [],
   "source": [
    "features1 = raw_data1.drop(['product', 'id'], axis=1) \n",
    "target1 = raw_data1['product']\n",
    "# features1\n"
   ]
  },
  {
   "cell_type": "code",
   "execution_count": 42,
   "metadata": {
    "ExecuteTime": {
     "end_time": "2021-01-21T18:37:56.908338Z",
     "start_time": "2021-01-21T18:37:56.880413Z"
    }
   },
   "outputs": [],
   "source": [
    "features_train1, features_valid1, target_train1, target_valid1 = train_test_split(\n",
    "    features1, target1, test_size=0.25, random_state=randomState)\n",
    "\n",
    "target_valid1.reset_index(drop=True, inplace=True)"
   ]
  },
  {
   "cell_type": "code",
   "execution_count": 43,
   "metadata": {
    "ExecuteTime": {
     "end_time": "2021-01-21T18:37:56.940254Z",
     "start_time": "2021-01-21T18:37:56.910334Z"
    },
    "scrolled": true
   },
   "outputs": [
    {
     "name": "stdout",
     "output_type": "stream",
     "text": [
      "RMSE модели линейной регрессии на валидационной выборке: 0.89\n",
      "Средний запас предсказанного сырья - 68.71\n",
      "Средний запас реального сырья - 68.73\n",
      "95%-ый доверительный интервал: (91.77707015145042, 92.87484259023732)\n"
     ]
    }
   ],
   "source": [
    "model_specifications(features_train1, features_valid1, target_train1, target_valid1)"
   ]
  },
  {
   "cell_type": "markdown",
   "metadata": {},
   "source": [
    "Также напомню что у нас странным образом коррелировали столбец со значением f2 и \"product\" — объём запасов в скважине. Попробуем убрать признаки 'f0', 'f1' и обучить модель без них. "
   ]
  },
  {
   "cell_type": "code",
   "execution_count": 44,
   "metadata": {
    "ExecuteTime": {
     "end_time": "2021-01-21T18:37:56.949232Z",
     "start_time": "2021-01-21T18:37:56.942249Z"
    }
   },
   "outputs": [],
   "source": [
    "features1_1 = raw_data1.drop(['product', 'id', 'f0', 'f1'], axis=1) "
   ]
  },
  {
   "cell_type": "code",
   "execution_count": 45,
   "metadata": {
    "ExecuteTime": {
     "end_time": "2021-01-21T18:37:56.975160Z",
     "start_time": "2021-01-21T18:37:56.952222Z"
    }
   },
   "outputs": [],
   "source": [
    "features_train1_1, features_valid1_1, target_train1_1, target_valid1_1 = train_test_split(\n",
    "    features1_1, target1, test_size=0.25, random_state=randomState)\n",
    "# features_train1\n"
   ]
  },
  {
   "cell_type": "code",
   "execution_count": 46,
   "metadata": {
    "ExecuteTime": {
     "end_time": "2021-01-21T18:37:57.001091Z",
     "start_time": "2021-01-21T18:37:56.977155Z"
    }
   },
   "outputs": [
    {
     "name": "stdout",
     "output_type": "stream",
     "text": [
      "RMSE модели линейной регрессии на валидационной выборке: 1.60\n",
      "Средний запас предсказанного сырья - 68.72\n",
      "Средний запас реального сырья - 68.73\n",
      "95%-ый доверительный интервал: (91.77707015145042, 92.87484259023732)\n"
     ]
    }
   ],
   "source": [
    "model_specifications(features_train1_1, features_valid1_1, target_train1_1, target_valid1_1)"
   ]
  },
  {
   "cell_type": "markdown",
   "metadata": {},
   "source": [
    "Результат получился плачевный, отклонение стало только больше. "
   ]
  },
  {
   "cell_type": "markdown",
   "metadata": {},
   "source": [
    "Вернем признаки в датасет по первому региону т.к. на этих данных модель обучилась лучше"
   ]
  },
  {
   "cell_type": "code",
   "execution_count": 47,
   "metadata": {
    "ExecuteTime": {
     "end_time": "2021-01-21T18:37:57.093844Z",
     "start_time": "2021-01-21T18:37:57.083870Z"
    }
   },
   "outputs": [],
   "source": [
    "# features1 = raw_data1.drop(['product', 'id'], axis=1) "
   ]
  },
  {
   "cell_type": "code",
   "execution_count": 48,
   "metadata": {
    "ExecuteTime": {
     "end_time": "2021-01-21T18:37:57.110798Z",
     "start_time": "2021-01-21T18:37:57.096836Z"
    }
   },
   "outputs": [
    {
     "data": {
      "text/html": [
       "<div>\n",
       "<style scoped>\n",
       "    .dataframe tbody tr th:only-of-type {\n",
       "        vertical-align: middle;\n",
       "    }\n",
       "\n",
       "    .dataframe tbody tr th {\n",
       "        vertical-align: top;\n",
       "    }\n",
       "\n",
       "    .dataframe thead th {\n",
       "        text-align: right;\n",
       "    }\n",
       "</style>\n",
       "<table border=\"1\" class=\"dataframe\">\n",
       "  <thead>\n",
       "    <tr style=\"text-align: right;\">\n",
       "      <th></th>\n",
       "      <th>Сырые денные регион 1</th>\n",
       "      <th>Сырые денные регион 2</th>\n",
       "    </tr>\n",
       "  </thead>\n",
       "  <tbody>\n",
       "    <tr>\n",
       "      <td>RMSE на валидационной выборке</td>\n",
       "      <td>37.76</td>\n",
       "      <td>0.89</td>\n",
       "    </tr>\n",
       "    <tr>\n",
       "      <td>Средний запас предсказанного сырья</td>\n",
       "      <td>92.40</td>\n",
       "      <td>68.71</td>\n",
       "    </tr>\n",
       "    <tr>\n",
       "      <td>Средний запас реального сырья</td>\n",
       "      <td>92.33</td>\n",
       "      <td>68.73</td>\n",
       "    </tr>\n",
       "  </tbody>\n",
       "</table>\n",
       "</div>"
      ],
      "text/plain": [
       "                                   Сырые денные регион 1 Сырые денные регион 2\n",
       "RMSE на валидационной выборке                      37.76                  0.89\n",
       "Средний запас предсказанного сырья                 92.40                 68.71\n",
       "Средний запас реального сырья                      92.33                 68.73"
      ]
     },
     "execution_count": 48,
     "metadata": {},
     "output_type": "execute_result"
    }
   ],
   "source": [
    "results['Сырые денные регион 2'] = [' 0.89', '68.71', '68.73']\n",
    "results"
   ]
  },
  {
   "cell_type": "code",
   "execution_count": null,
   "metadata": {},
   "outputs": [],
   "source": []
  },
  {
   "cell_type": "markdown",
   "metadata": {},
   "source": [
    "## Регион №3\n"
   ]
  },
  {
   "cell_type": "code",
   "execution_count": 49,
   "metadata": {
    "ExecuteTime": {
     "end_time": "2021-01-21T18:37:57.122766Z",
     "start_time": "2021-01-21T18:37:57.113790Z"
    }
   },
   "outputs": [],
   "source": [
    "features2 = raw_data2.drop(['product', 'id'], axis=1) \n",
    "target2 = raw_data2['product']\n",
    "# features1"
   ]
  },
  {
   "cell_type": "code",
   "execution_count": 50,
   "metadata": {
    "ExecuteTime": {
     "end_time": "2021-01-21T18:37:57.156677Z",
     "start_time": "2021-01-21T18:37:57.125758Z"
    }
   },
   "outputs": [],
   "source": [
    "features_train2, features_valid2, target_train2, target_valid2 = train_test_split(\n",
    "    features2, target2, test_size=0.25, random_state=randomState)\n",
    "\n",
    "target_valid2.reset_index(drop=True, inplace=True)"
   ]
  },
  {
   "cell_type": "code",
   "execution_count": 51,
   "metadata": {
    "ExecuteTime": {
     "end_time": "2021-01-21T18:37:57.184602Z",
     "start_time": "2021-01-21T18:37:57.159669Z"
    }
   },
   "outputs": [
    {
     "name": "stdout",
     "output_type": "stream",
     "text": [
      "RMSE модели линейной регрессии на валидационной выборке: 40.15\n",
      "Средний запас предсказанного сырья - 94.77\n",
      "Средний запас реального сырья - 95.15\n",
      "95%-ый доверительный интервал: (91.77707015145042, 92.87484259023732)\n"
     ]
    }
   ],
   "source": [
    "model_specifications(features_train2, features_valid2, target_train2, target_valid2)"
   ]
  },
  {
   "cell_type": "code",
   "execution_count": null,
   "metadata": {},
   "outputs": [],
   "source": []
  },
  {
   "cell_type": "code",
   "execution_count": 52,
   "metadata": {
    "ExecuteTime": {
     "end_time": "2021-01-21T18:37:57.202552Z",
     "start_time": "2021-01-21T18:37:57.187592Z"
    }
   },
   "outputs": [
    {
     "data": {
      "text/html": [
       "<div>\n",
       "<style scoped>\n",
       "    .dataframe tbody tr th:only-of-type {\n",
       "        vertical-align: middle;\n",
       "    }\n",
       "\n",
       "    .dataframe tbody tr th {\n",
       "        vertical-align: top;\n",
       "    }\n",
       "\n",
       "    .dataframe thead th {\n",
       "        text-align: right;\n",
       "    }\n",
       "</style>\n",
       "<table border=\"1\" class=\"dataframe\">\n",
       "  <thead>\n",
       "    <tr style=\"text-align: right;\">\n",
       "      <th></th>\n",
       "      <th>Сырые денные регион 1</th>\n",
       "      <th>Сырые денные регион 2</th>\n",
       "      <th>Сырые денные регион 3</th>\n",
       "    </tr>\n",
       "  </thead>\n",
       "  <tbody>\n",
       "    <tr>\n",
       "      <td>RMSE на валидационной выборке</td>\n",
       "      <td>37.76</td>\n",
       "      <td>0.89</td>\n",
       "      <td>40.15</td>\n",
       "    </tr>\n",
       "    <tr>\n",
       "      <td>Средний запас предсказанного сырья</td>\n",
       "      <td>92.40</td>\n",
       "      <td>68.71</td>\n",
       "      <td>94.77</td>\n",
       "    </tr>\n",
       "    <tr>\n",
       "      <td>Средний запас реального сырья</td>\n",
       "      <td>92.33</td>\n",
       "      <td>68.73</td>\n",
       "      <td>95.15</td>\n",
       "    </tr>\n",
       "  </tbody>\n",
       "</table>\n",
       "</div>"
      ],
      "text/plain": [
       "                                   Сырые денные регион 1  \\\n",
       "RMSE на валидационной выборке                      37.76   \n",
       "Средний запас предсказанного сырья                 92.40   \n",
       "Средний запас реального сырья                      92.33   \n",
       "\n",
       "                                   Сырые денные регион 2 Сырые денные регион 3  \n",
       "RMSE на валидационной выборке                       0.89                 40.15  \n",
       "Средний запас предсказанного сырья                 68.71                 94.77  \n",
       "Средний запас реального сырья                      68.73                 95.15  "
      ]
     },
     "execution_count": 52,
     "metadata": {},
     "output_type": "execute_result"
    }
   ],
   "source": [
    "results['Сырые денные регион 3'] = ['40.15', '94.77', '95.15']\n",
    "results"
   ]
  },
  {
   "cell_type": "markdown",
   "metadata": {},
   "source": [
    "## Вывод по блоку\n",
    "\n",
    "Мы получили 3 основных значения:\n",
    "- RMSE на валидационной выборке **это корень из среднеквадратичной ошибки наших прогнозов**\n",
    "- Средний запас предсказанного сырья\n",
    "- Средний запас реального сырья\t\n",
    "\n",
    "Мы видимо что во 2-м регионе у нас отклонение от реальных значений самое маленькое, значит тут наша модель сработала лучше всего.\n",
    "Также видно что средний запас предсказанного сырья не сильно отличается от реального запаса, но средние значения нам очень трудно интерпретировать. С учетом того что мы знает RMSE и видим что в 1-м и 3-м регионе отклонение может достигать почти половины от реальных значений.\n",
    "\n",
    "Для того чтобы определить наилучший регион для разработок, проведем исследование наших данных техникой Bootstrap. "
   ]
  },
  {
   "cell_type": "markdown",
   "metadata": {},
   "source": [
    "<div class=\"alert alert-block alert-success\">\n",
    "<b>Успех:</b> Шаг сделан хороо, все метрики посчитаны корректно.\n",
    "</div>\n"
   ]
  },
  {
   "cell_type": "markdown",
   "metadata": {},
   "source": [
    "# 3. Подготовка к расчёту прибыли"
   ]
  },
  {
   "cell_type": "markdown",
   "metadata": {},
   "source": [
    "## Основные данные\n",
    "\n",
    "- Бюджет на разработку скважин в регионе — 10 млрд рублей. (budget - Development budget)\n",
    "- Доход с каждой единицы продукта составляет 450 тыс. рублей (barel - Price per barrel * 1000)"
   ]
  },
  {
   "cell_type": "code",
   "execution_count": 53,
   "metadata": {
    "ExecuteTime": {
     "end_time": "2021-01-21T18:37:57.211530Z",
     "start_time": "2021-01-21T18:37:57.205545Z"
    }
   },
   "outputs": [],
   "source": [
    "budget = 10000000 # считаем в тысячах, поэтому получаем 10 миллионов тысяч\n",
    "well = 200 #Количество скважин\n",
    "budget_one = budget / well\n",
    "barel = 450 #это в тысячах (450 000)\n",
    "\n",
    "# Well budget - wbudget Бюджет на одну скважину (из расчета что в регионе будет всего 200 скважин)\n",
    "# quantity of oil - oilq - минимальный объём запасов в скважине для того чтобы проетк был прибыльный"
   ]
  },
  {
   "cell_type": "markdown",
   "metadata": {},
   "source": [
    "<div class=\"alert alert-block alert-info\">\n",
    "<b>Совет:</b> Константы принятно записывать в ВЕРХНЕМ регистре=)\n",
    "</div>"
   ]
  },
  {
   "cell_type": "markdown",
   "metadata": {},
   "source": [
    "<div class=\"alert alert-block alert-warning\">\n",
    "<b>Комментарий студента:</b> \n",
    "    \n",
    "Ок, я почему-то думал что это касается только совсем не меняющихся значений)\n",
    "</div>"
   ]
  },
  {
   "cell_type": "code",
   "execution_count": 54,
   "metadata": {
    "ExecuteTime": {
     "end_time": "2021-01-21T18:54:14.689537Z",
     "start_time": "2021-01-21T18:54:14.683554Z"
    }
   },
   "outputs": [
    {
     "name": "stdout",
     "output_type": "stream",
     "text": [
      "Минимальный объём запасов в скважине нужный для того чтобы скважина считалась удачной- 111.11 тысяч бырелей\n"
     ]
    }
   ],
   "source": [
    "wbudget = budget / 200 #Бюджет на бурение одной скважины\n",
    "oilq = wbudget / 450\n",
    "print('Минимальный объём запасов в скважине нужный для того чтобы скважина считалась удачной'\n",
    "      '- {:.2f} тысяч бырелей'.format(oilq))"
   ]
  },
  {
   "cell_type": "markdown",
   "metadata": {},
   "source": [
    "### Регион №1"
   ]
  },
  {
   "cell_type": "code",
   "execution_count": 55,
   "metadata": {
    "ExecuteTime": {
     "end_time": "2021-01-21T18:37:57.260397Z",
     "start_time": "2021-01-21T18:37:57.224494Z"
    }
   },
   "outputs": [],
   "source": [
    "model.fit(features_train0, target_train0)\n",
    "predictions_valid0 = model.predict(features_valid0)\n",
    "result0 = mean_squared_error(target_valid0, predictions_valid0)**0.5 # RMSE на валидационной выборке\n",
    "# print(\"RMSE модели линейной регрессии на валидационной выборке: {:.2f}\".format(result0))\n",
    "\n",
    "raw_material_stock_pred0 = predictions_valid0.mean()\n",
    "raw_material_stock_real0 = target_valid0.mean()\n",
    "# print('Средний запас предсказанного сырья - {:.2f}'.format(raw_material_stock_pred0))\n",
    "# print('Средний запас реального сырья - {:.2f}'.format(raw_material_stock_real0))\n",
    "confidence_interval0 = t.interval(0.95, len(target_valid0), target_valid0.mean(), target_valid0.sem())\n",
    "# print('95%-ый доверительный интервал: {:.2f} : {:.2f}'.format(confidence_interval0[0], confidence_interval0[1]))"
   ]
  },
  {
   "cell_type": "markdown",
   "metadata": {},
   "source": [
    "**Для удобства заносим все в таблицу**"
   ]
  },
  {
   "cell_type": "code",
   "execution_count": 56,
   "metadata": {},
   "outputs": [
    {
     "data": {
      "text/html": [
       "<div>\n",
       "<style scoped>\n",
       "    .dataframe tbody tr th:only-of-type {\n",
       "        vertical-align: middle;\n",
       "    }\n",
       "\n",
       "    .dataframe tbody tr th {\n",
       "        vertical-align: top;\n",
       "    }\n",
       "\n",
       "    .dataframe thead th {\n",
       "        text-align: right;\n",
       "    }\n",
       "</style>\n",
       "<table border=\"1\" class=\"dataframe\">\n",
       "  <thead>\n",
       "    <tr style=\"text-align: right;\">\n",
       "      <th></th>\n",
       "      <th>Данные предсказаний регион 1</th>\n",
       "    </tr>\n",
       "  </thead>\n",
       "  <tbody>\n",
       "    <tr>\n",
       "      <td>RMSE модели линейной регрессии на валидационной выборке</td>\n",
       "      <td>37.7566</td>\n",
       "    </tr>\n",
       "    <tr>\n",
       "      <td>Средний запас предсказанного сырья</td>\n",
       "      <td>92.3988</td>\n",
       "    </tr>\n",
       "    <tr>\n",
       "      <td>Средний запас реального сырья</td>\n",
       "      <td>92.326</td>\n",
       "    </tr>\n",
       "    <tr>\n",
       "      <td>95%-ый доверительный интервал</td>\n",
       "      <td>91.78 : 92.87</td>\n",
       "    </tr>\n",
       "  </tbody>\n",
       "</table>\n",
       "</div>"
      ],
      "text/plain": [
       "                                                   Данные предсказаний регион 1\n",
       "RMSE модели линейной регрессии на валидационной...                      37.7566\n",
       "Средний запас предсказанного сырья                                      92.3988\n",
       "Средний запас реального сырья                                            92.326\n",
       "95%-ый доверительный интервал                                     91.78 : 92.87"
      ]
     },
     "execution_count": 56,
     "metadata": {},
     "output_type": "execute_result"
    }
   ],
   "source": [
    "results2 = pd.DataFrame(index=['RMSE модели линейной регрессии на валидационной выборке', 'Средний запас предсказанного сырья', \n",
    "                              'Средний запас реального сырья', '95%-ый доверительный интервал'])\n",
    "results2['Данные предсказаний регион 1'] = [result0, raw_material_stock_pred0, \n",
    "                                            raw_material_stock_real0, \n",
    "                                            '{:.2f} : {:.2f}'.format(confidence_interval0[0], confidence_interval0[1])]\n",
    "results2"
   ]
  },
  {
   "cell_type": "markdown",
   "metadata": {},
   "source": [
    "### Регион №2"
   ]
  },
  {
   "cell_type": "code",
   "execution_count": 57,
   "metadata": {
    "ExecuteTime": {
     "end_time": "2021-01-21T18:37:57.292313Z",
     "start_time": "2021-01-21T18:37:57.262393Z"
    }
   },
   "outputs": [],
   "source": [
    "model.fit(features_train1, target_train1)\n",
    "predictions_valid1 = model.predict(features_valid1)\n",
    "result1 = mean_squared_error(target_valid1, predictions_valid1)**0.5 # RMSE на валидационной выборке\n",
    "# print(\"RMSE модели линейной регрессии на валидационной выборке: {:.2f}\".format(result1))\n",
    "\n",
    "raw_material_stock_pred1 = predictions_valid1.mean()\n",
    "raw_material_stock_real1 = target_valid1.mean()\n",
    "# print('Средний запас предсказанного сырья - {:.2f}'.format(raw_material_stock_pred1))\n",
    "# print('Средний запас реального сырья - {:.2f}'.format(raw_material_stock_real1))\n",
    "confidence_interval1 = t.interval(0.95, len(target_valid1), target_valid1.mean(), target_valid1.sem())\n",
    "# print('95%-ый доверительный интервал:', confidence_interval1)"
   ]
  },
  {
   "cell_type": "code",
   "execution_count": 58,
   "metadata": {},
   "outputs": [
    {
     "data": {
      "text/html": [
       "<div>\n",
       "<style scoped>\n",
       "    .dataframe tbody tr th:only-of-type {\n",
       "        vertical-align: middle;\n",
       "    }\n",
       "\n",
       "    .dataframe tbody tr th {\n",
       "        vertical-align: top;\n",
       "    }\n",
       "\n",
       "    .dataframe thead th {\n",
       "        text-align: right;\n",
       "    }\n",
       "</style>\n",
       "<table border=\"1\" class=\"dataframe\">\n",
       "  <thead>\n",
       "    <tr style=\"text-align: right;\">\n",
       "      <th></th>\n",
       "      <th>Данные предсказаний регион 1</th>\n",
       "      <th>Данные предсказаний регион 2</th>\n",
       "    </tr>\n",
       "  </thead>\n",
       "  <tbody>\n",
       "    <tr>\n",
       "      <td>RMSE модели линейной регрессии на валидационной выборке</td>\n",
       "      <td>37.7566</td>\n",
       "      <td>0.89028</td>\n",
       "    </tr>\n",
       "    <tr>\n",
       "      <td>Средний запас предсказанного сырья</td>\n",
       "      <td>92.3988</td>\n",
       "      <td>68.7129</td>\n",
       "    </tr>\n",
       "    <tr>\n",
       "      <td>Средний запас реального сырья</td>\n",
       "      <td>92.326</td>\n",
       "      <td>68.7254</td>\n",
       "    </tr>\n",
       "    <tr>\n",
       "      <td>95%-ый доверительный интервал</td>\n",
       "      <td>91.78 : 92.87</td>\n",
       "      <td>68.16 : 69.29</td>\n",
       "    </tr>\n",
       "  </tbody>\n",
       "</table>\n",
       "</div>"
      ],
      "text/plain": [
       "                                                   Данные предсказаний регион 1  \\\n",
       "RMSE модели линейной регрессии на валидационной...                      37.7566   \n",
       "Средний запас предсказанного сырья                                      92.3988   \n",
       "Средний запас реального сырья                                            92.326   \n",
       "95%-ый доверительный интервал                                     91.78 : 92.87   \n",
       "\n",
       "                                                   Данные предсказаний регион 2  \n",
       "RMSE модели линейной регрессии на валидационной...                      0.89028  \n",
       "Средний запас предсказанного сырья                                      68.7129  \n",
       "Средний запас реального сырья                                           68.7254  \n",
       "95%-ый доверительный интервал                                     68.16 : 69.29  "
      ]
     },
     "execution_count": 58,
     "metadata": {},
     "output_type": "execute_result"
    }
   ],
   "source": [
    "results2['Данные предсказаний регион 2'] = [result1, raw_material_stock_pred1, \n",
    "                                            raw_material_stock_real1, '{:.2f} : {:.2f}'.format(confidence_interval1[0], \n",
    "                                                                                               confidence_interval1[1])]\n",
    "results2"
   ]
  },
  {
   "cell_type": "markdown",
   "metadata": {},
   "source": [
    "### Регион №3"
   ]
  },
  {
   "cell_type": "code",
   "execution_count": 59,
   "metadata": {
    "ExecuteTime": {
     "end_time": "2021-01-21T18:37:57.324228Z",
     "start_time": "2021-01-21T18:37:57.294307Z"
    }
   },
   "outputs": [],
   "source": [
    "model.fit(features_train2, target_train2)\n",
    "predictions_valid2 = model.predict(features_valid2)\n",
    "result2 = mean_squared_error(target_valid1, predictions_valid2)**0.5 # RMSE на валидационной выборке\n",
    "# print(\"RMSE модели линейной регрессии на валидационной выборке: {:.2f}\".format(result2))\n",
    "\n",
    "raw_material_stock_pred2 = predictions_valid2.mean()\n",
    "raw_material_stock_real2 = target_valid2.mean()\n",
    "# print('Средний запас предсказанного сырья - {:.2f}'.format(raw_material_stock_pred2))\n",
    "# print('Средний запас реального сырья - {:.2f}'.format(raw_material_stock_real2))\n",
    "confidence_interval2 = t.interval(0.95, len(target_valid2), target_valid2.mean(), target_valid2.sem())\n",
    "# print('95%-ый доверительный интервал:', confidence_interval2)"
   ]
  },
  {
   "cell_type": "code",
   "execution_count": 60,
   "metadata": {},
   "outputs": [
    {
     "data": {
      "text/html": [
       "<div>\n",
       "<style scoped>\n",
       "    .dataframe tbody tr th:only-of-type {\n",
       "        vertical-align: middle;\n",
       "    }\n",
       "\n",
       "    .dataframe tbody tr th {\n",
       "        vertical-align: top;\n",
       "    }\n",
       "\n",
       "    .dataframe thead th {\n",
       "        text-align: right;\n",
       "    }\n",
       "</style>\n",
       "<table border=\"1\" class=\"dataframe\">\n",
       "  <thead>\n",
       "    <tr style=\"text-align: right;\">\n",
       "      <th></th>\n",
       "      <th>Данные предсказаний регион 1</th>\n",
       "      <th>Данные предсказаний регион 2</th>\n",
       "      <th>Данные предсказаний регион 3</th>\n",
       "    </tr>\n",
       "  </thead>\n",
       "  <tbody>\n",
       "    <tr>\n",
       "      <td>RMSE модели линейной регрессии на валидационной выборке</td>\n",
       "      <td>37.7566</td>\n",
       "      <td>0.89028</td>\n",
       "      <td>56.4472</td>\n",
       "    </tr>\n",
       "    <tr>\n",
       "      <td>Средний запас предсказанного сырья</td>\n",
       "      <td>92.3988</td>\n",
       "      <td>68.7129</td>\n",
       "      <td>94.771</td>\n",
       "    </tr>\n",
       "    <tr>\n",
       "      <td>Средний запас реального сырья</td>\n",
       "      <td>92.326</td>\n",
       "      <td>68.7254</td>\n",
       "      <td>95.151</td>\n",
       "    </tr>\n",
       "    <tr>\n",
       "      <td>95%-ый доверительный интервал</td>\n",
       "      <td>91.78 : 92.87</td>\n",
       "      <td>68.16 : 69.29</td>\n",
       "      <td>94.60 : 95.71</td>\n",
       "    </tr>\n",
       "  </tbody>\n",
       "</table>\n",
       "</div>"
      ],
      "text/plain": [
       "                                                   Данные предсказаний регион 1  \\\n",
       "RMSE модели линейной регрессии на валидационной...                      37.7566   \n",
       "Средний запас предсказанного сырья                                      92.3988   \n",
       "Средний запас реального сырья                                            92.326   \n",
       "95%-ый доверительный интервал                                     91.78 : 92.87   \n",
       "\n",
       "                                                   Данные предсказаний регион 2  \\\n",
       "RMSE модели линейной регрессии на валидационной...                      0.89028   \n",
       "Средний запас предсказанного сырья                                      68.7129   \n",
       "Средний запас реального сырья                                           68.7254   \n",
       "95%-ый доверительный интервал                                     68.16 : 69.29   \n",
       "\n",
       "                                                   Данные предсказаний регион 3  \n",
       "RMSE модели линейной регрессии на валидационной...                      56.4472  \n",
       "Средний запас предсказанного сырья                                       94.771  \n",
       "Средний запас реального сырья                                            95.151  \n",
       "95%-ый доверительный интервал                                     94.60 : 95.71  "
      ]
     },
     "execution_count": 60,
     "metadata": {},
     "output_type": "execute_result"
    }
   ],
   "source": [
    "results2['Данные предсказаний регион 3'] = [result2, raw_material_stock_pred2, \n",
    "                                            raw_material_stock_real2, '{:.2f} : {:.2f}'.format(confidence_interval2[0], confidence_interval2[1])]\n",
    "results2"
   ]
  },
  {
   "cell_type": "markdown",
   "metadata": {},
   "source": [
    "Как мы видим в регионе номер 2 у нас самое маленькое RMSE, это значит что данные у нас там распределены с меньшим разбросом. \n",
    "При этом средний запас сырья там меньше всего. "
   ]
  },
  {
   "cell_type": "markdown",
   "metadata": {},
   "source": [
    "## Вывод по блоку\n",
    "\n",
    "Здесь мы подготовили данные, а именно все ключевые значения для расчётов сохранили в отдельных переменных.\n",
    "\n",
    "Также мы знаем, что минимальный объём запасов в скважине нужный для того чтобы скважина считалась безубыточный должен составлять - 111.11 тысяч бырелей. Здесь же мы видим что ни один из регионов по этому параметру не подходит. Но нужно не забывать что мы рассматриваем массим из 25 000 скважин. Знаит там есть как хорошие, так и плохие. \n",
    "\n",
    "Наша основаная задача теперь состоит в том чтобы через Bootstrap найти эти скважины и посчитать все риски."
   ]
  },
  {
   "cell_type": "markdown",
   "metadata": {},
   "source": [
    "<div class=\"alert alert-block alert-success\">\n",
    "<b>Успех:</b> Значение для безубыточной разработки посчитано верно, выводы логичны.\n",
    "</div>"
   ]
  },
  {
   "cell_type": "markdown",
   "metadata": {},
   "source": [
    "# 4. Расчёт прибыли и рисков "
   ]
  },
  {
   "cell_type": "markdown",
   "metadata": {},
   "source": [
    "## Подготовка данных"
   ]
  },
  {
   "cell_type": "code",
   "execution_count": 61,
   "metadata": {},
   "outputs": [],
   "source": [
    "# переводим оббъекты в Series\n",
    "predictions_valid0 = pd.Series(predictions_valid0) \n",
    "predictions_valid1 = pd.Series(predictions_valid1)\n",
    "predictions_valid2 = pd.Series(predictions_valid2)"
   ]
  },
  {
   "cell_type": "code",
   "execution_count": 62,
   "metadata": {},
   "outputs": [],
   "source": [
    "# Напишем функцию расчета прибыли\n",
    "\n",
    "def profit(pred_valid, target_valid, n):\n",
    "    predictions_valid_sorted = pred_valid.sort_values(ascending=False)\n",
    "    target_valid_selected = target_valid[predictions_valid_sorted.index][:n]\n",
    "    result = target_valid_selected.sum() * barel - budget\n",
    "#     print('Прибыль с 200 лучших скважин составила - {:.2f} тысяч рублей'.format(result))\n",
    "    return result\n",
    "\n",
    "# profit(predictions_valid0, predictions_valid0, 200) # для проверки"
   ]
  },
  {
   "cell_type": "markdown",
   "metadata": {},
   "source": [
    "### Регион №1"
   ]
  },
  {
   "cell_type": "code",
   "execution_count": 63,
   "metadata": {
    "scrolled": true
   },
   "outputs": [
    {
     "name": "stdout",
     "output_type": "stream",
     "text": [
      "Средняя прибыль: 427847.56\n",
      "95% доверительный интервал в регионе (тысяч руб.) - -9708.12 - 865127.64\n"
     ]
    }
   ],
   "source": [
    "# Все значения выручки из нашей выбоки будут храниться в переменной values0 (для каждого региона своя переменная)\n",
    "values0 = []\n",
    "\n",
    "# Производим бутстреп\n",
    "for i in range(1000):\n",
    "    target_valid_sub0 = target_valid0.sample(n=500, replace=True, random_state=state)\n",
    "    pred_valid_subsample0 = predictions_valid0[target_valid_sub0.index]\n",
    "    predictions_valid_sorted0 = pred_valid_subsample0.sort_values(ascending=False)\n",
    "    values0.append(profit(predictions_valid_sorted0, target_valid_sub0, 200)) #Добавление значений\n",
    "    \n",
    "values0 = pd.Series(values0)\n",
    "\n",
    "mean0 = values0.mean()\n",
    "print(\"Средняя прибыль: {:.2f}\".format(mean0))\n",
    "\n",
    "lower0 = values0.quantile(.05)\n",
    "upper0 = values0.quantile(.95)\n",
    "\n",
    "# # Определяем 95%-й доверительный интервал\n",
    "# interval0 = t.interval(0.95, len(values0), values0.mean(), values0.sem())\n",
    "\n",
    "# print(interval0)\n",
    "print('95% доверительный интервал в регионе (тысяч руб.) - {:.2f} - {:.2f}'.format(lower0, upper0))"
   ]
  },
  {
   "cell_type": "code",
   "execution_count": 64,
   "metadata": {
    "scrolled": true
   },
   "outputs": [
    {
     "name": "stdout",
     "output_type": "stream",
     "text": [
      "Риск убытков в регионе 1: 5.50%\n"
     ]
    }
   ],
   "source": [
    "# Расчитываем риск убытков\n",
    "risk_of_loss0 = values0[values0 < 0].count()/1000\n",
    "print('Риск убытков в регионе 1: {:.2%}'.format(risk_of_loss0))"
   ]
  },
  {
   "cell_type": "markdown",
   "metadata": {},
   "source": [
    "**Для удобства запишем все в таблицу**"
   ]
  },
  {
   "cell_type": "code",
   "execution_count": 65,
   "metadata": {},
   "outputs": [
    {
     "data": {
      "text/html": [
       "<div>\n",
       "<style scoped>\n",
       "    .dataframe tbody tr th:only-of-type {\n",
       "        vertical-align: middle;\n",
       "    }\n",
       "\n",
       "    .dataframe tbody tr th {\n",
       "        vertical-align: top;\n",
       "    }\n",
       "\n",
       "    .dataframe thead th {\n",
       "        text-align: right;\n",
       "    }\n",
       "</style>\n",
       "<table border=\"1\" class=\"dataframe\">\n",
       "  <thead>\n",
       "    <tr style=\"text-align: right;\">\n",
       "      <th></th>\n",
       "      <th>Данные предсказаний регион 1</th>\n",
       "    </tr>\n",
       "  </thead>\n",
       "  <tbody>\n",
       "    <tr>\n",
       "      <td>Средняя прибыль в регионе после Bootstrap (тысяч руб.)</td>\n",
       "      <td>427847.56</td>\n",
       "    </tr>\n",
       "    <tr>\n",
       "      <td>95% доверительный интервал в регионе (тысяч руб.)</td>\n",
       "      <td>-9708.12 : 865127.64</td>\n",
       "    </tr>\n",
       "    <tr>\n",
       "      <td>Риск убытков в регионе в %</td>\n",
       "      <td>5.50%</td>\n",
       "    </tr>\n",
       "  </tbody>\n",
       "</table>\n",
       "</div>"
      ],
      "text/plain": [
       "                                                   Данные предсказаний регион 1\n",
       "Средняя прибыль в регионе после Bootstrap (тыся...                    427847.56\n",
       "95% доверительный интервал в регионе (тысяч руб.)          -9708.12 : 865127.64\n",
       "Риск убытков в регионе в %                                                5.50%"
      ]
     },
     "execution_count": 65,
     "metadata": {},
     "output_type": "execute_result"
    }
   ],
   "source": [
    "results3 = pd.DataFrame(index=['Средняя прибыль в регионе после Bootstrap (тысяч руб.)', \n",
    "                               '95% доверительный интервал в регионе (тысяч руб.)', \n",
    "                              'Риск убытков в регионе в %'])\n",
    "results3['Данные предсказаний регион 1'] = ['{:.2f}'.format(mean0), \n",
    "                                            '{:.2f} : {:.2f}'.format(lower0, upper0), '{:.2%}'.format(risk_of_loss0)]\n",
    "results3"
   ]
  },
  {
   "cell_type": "code",
   "execution_count": null,
   "metadata": {},
   "outputs": [],
   "source": []
  },
  {
   "cell_type": "markdown",
   "metadata": {},
   "source": [
    "### Регион №2"
   ]
  },
  {
   "cell_type": "code",
   "execution_count": 66,
   "metadata": {
    "ExecuteTime": {
     "end_time": "2021-01-21T18:51:49.157032Z",
     "start_time": "2021-01-21T18:51:49.141076Z"
    }
   },
   "outputs": [
    {
     "name": "stdout",
     "output_type": "stream",
     "text": [
      "Средняя прибыль: 511530.22\n",
      "95% доверительный интервал в регионе (тысяч руб.): 149485.76 - 862955.17\n"
     ]
    }
   ],
   "source": [
    "values1 = []\n",
    "\n",
    "for i in range(1000):\n",
    "    target_valid_sub1 = target_valid1.sample(n=500, replace=True, random_state=state)\n",
    "    pred_valid_subsample1 = predictions_valid1[target_valid_sub1.index]\n",
    "    predictions_valid_sorted1 = pred_valid_subsample1.sort_values(ascending=False)\n",
    "    values1.append(profit(predictions_valid_sorted1, target_valid_sub1, 200))\n",
    "      \n",
    "values1 = pd.Series(values1)\n",
    "\n",
    "mean1 = values1.mean()\n",
    "print(\"Средняя прибыль: {:.2f}\".format(mean1))\n",
    "\n",
    "# interval1 = t.interval(0.95, len(values1), values1.mean(), values1.sem())\n",
    "\n",
    "# print(interval1)\n",
    "lower1 = values1.quantile(.05)\n",
    "upper1 = values1.quantile(.95)\n",
    "\n",
    "print('95% доверительный интервал в регионе (тысяч руб.): {:.2f} - {:.2f}'.format(lower1, upper1))\n"
   ]
  },
  {
   "cell_type": "code",
   "execution_count": 67,
   "metadata": {},
   "outputs": [
    {
     "name": "stdout",
     "output_type": "stream",
     "text": [
      "Риск убытков в регионе 1: 0.60%\n"
     ]
    }
   ],
   "source": [
    "risk_of_loss1 = values0[values1 < 0].count()/1000\n",
    "print('Риск убытков в регионе 1: {:.2%}'.format(risk_of_loss1))\n"
   ]
  },
  {
   "cell_type": "code",
   "execution_count": 68,
   "metadata": {},
   "outputs": [
    {
     "data": {
      "text/html": [
       "<div>\n",
       "<style scoped>\n",
       "    .dataframe tbody tr th:only-of-type {\n",
       "        vertical-align: middle;\n",
       "    }\n",
       "\n",
       "    .dataframe tbody tr th {\n",
       "        vertical-align: top;\n",
       "    }\n",
       "\n",
       "    .dataframe thead th {\n",
       "        text-align: right;\n",
       "    }\n",
       "</style>\n",
       "<table border=\"1\" class=\"dataframe\">\n",
       "  <thead>\n",
       "    <tr style=\"text-align: right;\">\n",
       "      <th></th>\n",
       "      <th>Данные предсказаний регион 1</th>\n",
       "      <th>Данные предсказаний регион 2</th>\n",
       "    </tr>\n",
       "  </thead>\n",
       "  <tbody>\n",
       "    <tr>\n",
       "      <td>Средняя прибыль в регионе после Bootstrap (тысяч руб.)</td>\n",
       "      <td>427847.56</td>\n",
       "      <td>511530.22</td>\n",
       "    </tr>\n",
       "    <tr>\n",
       "      <td>95% доверительный интервал в регионе (тысяч руб.)</td>\n",
       "      <td>-9708.12 : 865127.64</td>\n",
       "      <td>149485.76 : 862955.17</td>\n",
       "    </tr>\n",
       "    <tr>\n",
       "      <td>Риск убытков в регионе в %</td>\n",
       "      <td>5.50%</td>\n",
       "      <td>0.60%</td>\n",
       "    </tr>\n",
       "  </tbody>\n",
       "</table>\n",
       "</div>"
      ],
      "text/plain": [
       "                                                   Данные предсказаний регион 1  \\\n",
       "Средняя прибыль в регионе после Bootstrap (тыся...                    427847.56   \n",
       "95% доверительный интервал в регионе (тысяч руб.)          -9708.12 : 865127.64   \n",
       "Риск убытков в регионе в %                                                5.50%   \n",
       "\n",
       "                                                   Данные предсказаний регион 2  \n",
       "Средняя прибыль в регионе после Bootstrap (тыся...                    511530.22  \n",
       "95% доверительный интервал в регионе (тысяч руб.)         149485.76 : 862955.17  \n",
       "Риск убытков в регионе в %                                                0.60%  "
      ]
     },
     "execution_count": 68,
     "metadata": {},
     "output_type": "execute_result"
    }
   ],
   "source": [
    "results3['Данные предсказаний регион 2'] = ['{:.2f}'.format(mean1), \n",
    "                                            '{:.2f} : {:.2f}'.format(lower1, upper1), '{:.2%}'.format(risk_of_loss1)]\n",
    "results3"
   ]
  },
  {
   "cell_type": "markdown",
   "metadata": {},
   "source": [
    "### Регион №3"
   ]
  },
  {
   "cell_type": "code",
   "execution_count": 69,
   "metadata": {
    "ExecuteTime": {
     "end_time": "2021-01-21T18:52:06.819709Z",
     "start_time": "2021-01-21T18:52:06.804787Z"
    }
   },
   "outputs": [
    {
     "name": "stdout",
     "output_type": "stream",
     "text": [
      "Средняя прибыль: 408545.68\n",
      "95% доверительный интервал в регионе (тысяч руб.): -56146.25 - 869515.28\n"
     ]
    }
   ],
   "source": [
    "values2 = []\n",
    "\n",
    "for i in range(1000):\n",
    "    target_valid_sub2 = target_valid2.sample(n=500, replace=True, random_state=state)\n",
    "    pred_valid_subsample2 = predictions_valid2[target_valid_sub2.index]\n",
    "    predictions_valid_sorted2 = pred_valid_subsample2.sort_values(ascending=False)\n",
    "    values2.append(profit(predictions_valid_sorted2, target_valid_sub2, 200))\n",
    "    \n",
    "values2 = pd.Series(values2)\n",
    "lower2 = values2.quantile(0.025)\n",
    "\n",
    "mean2 = values2.mean()\n",
    "print(\"Средняя прибыль: {:.2f}\".format(mean2))\n",
    "# interval2 = t.interval(0.95, len(values2), values2.mean(), values2.sem())\n",
    "\n",
    "# print(interval2)\n",
    "lower2 = values2.quantile(.05)\n",
    "upper2 = values2.quantile(.95)\n",
    "\n",
    "print('95% доверительный интервал в регионе (тысяч руб.): {:.2f} - {:.2f}'.format(lower2, upper2))"
   ]
  },
  {
   "cell_type": "code",
   "execution_count": 70,
   "metadata": {},
   "outputs": [
    {
     "name": "stdout",
     "output_type": "stream",
     "text": [
      "Риск убытков в регионе 1: 7.50%\n"
     ]
    }
   ],
   "source": [
    "risk_of_loss2 = values0[values2 < 0].count()/1000\n",
    "print('Риск убытков в регионе 1: {:.2%}'.format(risk_of_loss2))"
   ]
  },
  {
   "cell_type": "code",
   "execution_count": 71,
   "metadata": {
    "scrolled": false
   },
   "outputs": [
    {
     "data": {
      "text/html": [
       "<div>\n",
       "<style scoped>\n",
       "    .dataframe tbody tr th:only-of-type {\n",
       "        vertical-align: middle;\n",
       "    }\n",
       "\n",
       "    .dataframe tbody tr th {\n",
       "        vertical-align: top;\n",
       "    }\n",
       "\n",
       "    .dataframe thead th {\n",
       "        text-align: right;\n",
       "    }\n",
       "</style>\n",
       "<table border=\"1\" class=\"dataframe\">\n",
       "  <thead>\n",
       "    <tr style=\"text-align: right;\">\n",
       "      <th></th>\n",
       "      <th>Данные предсказаний регион 1</th>\n",
       "      <th>Данные предсказаний регион 2</th>\n",
       "      <th>Данные предсказаний регион 3</th>\n",
       "    </tr>\n",
       "  </thead>\n",
       "  <tbody>\n",
       "    <tr>\n",
       "      <td>Средняя прибыль в регионе после Bootstrap (тысяч руб.)</td>\n",
       "      <td>427847.56</td>\n",
       "      <td>511530.22</td>\n",
       "      <td>408545.68</td>\n",
       "    </tr>\n",
       "    <tr>\n",
       "      <td>95% доверительный интервал в регионе (тысяч руб.)</td>\n",
       "      <td>-9708.12 : 865127.64</td>\n",
       "      <td>149485.76 : 862955.17</td>\n",
       "      <td>-56146.25 : 869515.28</td>\n",
       "    </tr>\n",
       "    <tr>\n",
       "      <td>Риск убытков в регионе в %</td>\n",
       "      <td>5.50%</td>\n",
       "      <td>0.60%</td>\n",
       "      <td>7.50%</td>\n",
       "    </tr>\n",
       "  </tbody>\n",
       "</table>\n",
       "</div>"
      ],
      "text/plain": [
       "                                                   Данные предсказаний регион 1  \\\n",
       "Средняя прибыль в регионе после Bootstrap (тыся...                    427847.56   \n",
       "95% доверительный интервал в регионе (тысяч руб.)          -9708.12 : 865127.64   \n",
       "Риск убытков в регионе в %                                                5.50%   \n",
       "\n",
       "                                                   Данные предсказаний регион 2  \\\n",
       "Средняя прибыль в регионе после Bootstrap (тыся...                    511530.22   \n",
       "95% доверительный интервал в регионе (тысяч руб.)         149485.76 : 862955.17   \n",
       "Риск убытков в регионе в %                                                0.60%   \n",
       "\n",
       "                                                   Данные предсказаний регион 3  \n",
       "Средняя прибыль в регионе после Bootstrap (тыся...                    408545.68  \n",
       "95% доверительный интервал в регионе (тысяч руб.)         -56146.25 : 869515.28  \n",
       "Риск убытков в регионе в %                                                7.50%  "
      ]
     },
     "execution_count": 71,
     "metadata": {},
     "output_type": "execute_result"
    }
   ],
   "source": [
    "results3['Данные предсказаний регион 3'] = ['{:.2f}'.format(mean2), \n",
    "                                            '{:.2f} : {:.2f}'.format(lower2, upper2), '{:.2%}'.format(risk_of_loss2)]\n",
    "results3"
   ]
  },
  {
   "cell_type": "markdown",
   "metadata": {},
   "source": [
    "<div class=\"alert alert-block alert-success\">\n",
    "<b>Успех:</b> Бутстрап применен корректно. Риски посчитаны верно.\n",
    "</div>"
   ]
  },
  {
   "cell_type": "markdown",
   "metadata": {},
   "source": [
    "<div class=\"alert alert-block alert-danger\">\n",
    "<b>Ошибка:</b> 95% дов интервал для этой задачи нужно искать через 0.975 и 0.025 квантили.\n",
    "</div>"
   ]
  },
  {
   "cell_type": "markdown",
   "metadata": {},
   "source": [
    "<div class=\"alert alert-block alert-warning\">\n",
    "<b>Комментарий студента:</b> \n",
    "Я на самом деле сначала так и написал, а потом меня что-то смутило.. \n",
    "    \n",
    "Я еще почитаю подробнее про эти интервалы, щас как раз прохожу на степике курс по статистике. \n",
    "</div>"
   ]
  },
  {
   "cell_type": "markdown",
   "metadata": {},
   "source": [
    "<div class=\"alert alert-block alert-success\">\n",
    "<b>Успех[2]: </b>\n",
    "   \n",
    "Понял, дополнительный курсы - это замечательно!) Если вкратце, то вызывая st.t.interval(...), ты находишь 95%-доверительный интервал для значения **средней** прибыли, то есть промежуток, в котором с большой вероятностью при проведении аналогичных экспериментов окажется средняя прибыль. По заданию требовалось оценить 95%-доверительный интервал для значения **прибыли**, то есть найти такой промежуток, в котором с большой вероятностью окажется прибыль случайно выбранного месторождения данного региона. Нижняя граница этого интервала – это 2.5%-квантиль полученных значений прибыли, верхняя граница – 97.5%-квантиль.\n",
    "\n",
    "</div>"
   ]
  },
  {
   "cell_type": "markdown",
   "metadata": {
    "ExecuteTime": {
     "end_time": "2021-01-21T18:37:57.957535Z",
     "start_time": "2021-01-21T18:37:49.400Z"
    }
   },
   "source": [
    "## Вывод\n",
    "\n",
    "Мы брали по 500 случайных скважин каждого региона, далее сортировали их в порядке убывания по количеству сырья, потом отбирали из них 200 лучших, считали среднее значение и записывали его в переменную. Так мы сделали 1000 раз и получили результаты:\n",
    "1. Средняя прибыль в регионе номер 2 будет самой большой\n",
    "2. Мы получили 95% доверительный интервал **в этом интервале с 95% вероятностью будет находиться среднее значение прибыли**\n",
    "3. мы также посчитали % убыточных скважин. \n",
    "\n",
    "Исходя из полученных результатов отвечаем на наши главные вопросы: \n",
    "1. **Построить модель для определения региона, где добыча принесёт наибольшую прибыль.** - это регион номер 2\n",
    "2. **Проанализировать возможную прибыль и риски.** - наименьшие риски убыточных скважин - так же 2-й регион\n",
    "\n",
    "Делаем вывод что бурить нужно во 2-м регионе!"
   ]
  },
  {
   "cell_type": "markdown",
   "metadata": {},
   "source": [
    "<div class=\"alert alert-block alert-success\">\n",
    "<b>Успех:</b> Всегда приятно видеть структурированный итоговый вывод в конце проекта.\n",
    "</div>"
   ]
  },
  {
   "cell_type": "markdown",
   "metadata": {},
   "source": [
    "# Чек-лист готовности проекта"
   ]
  },
  {
   "cell_type": "markdown",
   "metadata": {},
   "source": [
    "Поставьте 'x' в выполненных пунктах. Далее нажмите Shift+Enter."
   ]
  },
  {
   "cell_type": "markdown",
   "metadata": {},
   "source": [
    "- [x]  Jupyter Notebook открыт\n",
    "- [x]  Весь код выполняется без ошибок\n",
    "- [x]  Ячейки с кодом расположены в порядке исполнения\n",
    "- [x]  Выполнен шаг 1: данные подготовлены\n",
    "- [x]  Выполнен шаг 2: модели обучены и проверены\n",
    "    - [x]  Данные корректно разбиты на обучающую и валидационную выборки\n",
    "    - [x]  Модели обучены, предсказания сделаны\n",
    "    - [x]  Предсказания и правильные ответы на валидационной выборке сохранены\n",
    "    - [x]  На экране напечатаны результаты\n",
    "    - [x]  Сделаны выводы\n",
    "- [x]  Выполнен шаг 3: проведена подготовка к расчёту прибыли\n",
    "    - [x]  Для всех ключевых значений созданы константы Python\n",
    "    - [x]  Посчитано минимальное среднее количество продукта в месторождениях региона, достаточное для разработки\n",
    "    - [x]  По предыдущему пункту сделаны выводы\n",
    "    - [x]  Написана функция расчёта прибыли\n",
    "- [x]  Выполнен шаг 4: посчитаны риски и прибыль\n",
    "    - [x]  Проведена процедура *Bootstrap*\n",
    "    - [x]  Все параметры бутстрепа соответствуют условию\n",
    "    - [x]  Найдены все нужные величины\n",
    "    - [x]  Предложен регион для разработки месторождения\n",
    "    - [x]  Выбор региона обоснован"
   ]
  },
  {
   "cell_type": "code",
   "execution_count": null,
   "metadata": {},
   "outputs": [],
   "source": []
  }
 ],
 "metadata": {
  "kernelspec": {
   "display_name": "Python 3",
   "language": "python",
   "name": "python3"
  },
  "language_info": {
   "codemirror_mode": {
    "name": "ipython",
    "version": 3
   },
   "file_extension": ".py",
   "mimetype": "text/x-python",
   "name": "python",
   "nbconvert_exporter": "python",
   "pygments_lexer": "ipython3",
   "version": "3.8.5"
  },
  "toc": {
   "base_numbering": "1",
   "nav_menu": {},
   "number_sections": true,
   "sideBar": true,
   "skip_h1_title": false,
   "title_cell": "Table of Contents",
   "title_sidebar": "Contents",
   "toc_cell": true,
   "toc_position": {
    "height": "calc(100% - 180px)",
    "left": "10px",
    "top": "150px",
    "width": "307.188px"
   },
   "toc_section_display": true,
   "toc_window_display": true
  }
 },
 "nbformat": 4,
 "nbformat_minor": 2
}
